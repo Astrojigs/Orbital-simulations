{
 "cells": [
  {
   "cell_type": "code",
   "execution_count": 1,
   "id": "b2dc9590-f411-4518-8f74-ad0c0ef7066b",
   "metadata": {},
   "outputs": [],
   "source": [
    "from barnes_hut import *"
   ]
  },
  {
   "cell_type": "code",
   "execution_count": 6,
   "id": "fe82cd20-8550-4fa0-824a-e9952e67ada8",
   "metadata": {},
   "outputs": [],
   "source": [
    "def make_exponential_disk(\n",
    "    n_total: int = 400,\n",
    "    R_d: float = 8.0,\n",
    "    R_max: float = 40.0,\n",
    "    M_total: float = 400.0,\n",
    "    G_used: float = 0.1,\n",
    "    bulge_frac: float = 0.15,\n",
    "    bulge_sigma: float = 2.0,\n",
    "    rot_sign: int = +1,\n",
    "    v_disp: float = 0.05,\n",
    "    seed: int = 7,\n",
    ") -> list[Point]:\n",
    "    \"\"\"\n",
    "    Galaxy-like ICs: exponential disk (Σ∝e^{-r/R_d}) + small Gaussian bulge.\n",
    "    - Samples disk radii via Erlang k=2 trick (r = R_d*(E1+E2)).\n",
    "    - Sets approximate circular velocities from M(<r) of disk+bulge.\n",
    "    - Adds a tiny velocity dispersion to keep it from being perfectly cold.\n",
    "    \"\"\"\n",
    "    import numpy as np\n",
    "    rng = np.random.default_rng(seed)\n",
    "    n_bulge = int(bulge_frac * n_total)\n",
    "    n_disk  = n_total - n_bulge\n",
    "    m = M_total / n_total\n",
    "    pts: list[Point] = []\n",
    "\n",
    "    # Bulge (2D Gaussian)\n",
    "    if n_bulge > 0:\n",
    "        xb = rng.normal(0.0, bulge_sigma, size=n_bulge)\n",
    "        yb = rng.normal(0.0, bulge_sigma, size=n_bulge)\n",
    "        vxb = rng.normal(0.0, v_disp, size=n_bulge)\n",
    "        vyb = rng.normal(0.0, v_disp, size=n_bulge)\n",
    "        for i in range(n_bulge):\n",
    "            pts.append(Point(float(xb[i]), float(yb[i]), mass=m,\n",
    "                             vx=float(vxb[i]), vy=float(vyb[i])))\n",
    "\n",
    "    # Disk (Σ ∝ e^{-r/Rd} → p(r) ∝ r e^{-r/Rd}; sample with Erlang k=2)\n",
    "    e1 = rng.exponential(1.0, size=n_disk)\n",
    "    e2 = rng.exponential(1.0, size=n_disk)\n",
    "    r = R_d * (e1 + e2)\n",
    "    r = np.clip(r, 0.0, R_max)\n",
    "    th = rng.uniform(0, 2*np.pi, size=n_disk)\n",
    "    xd, yd = r*np.cos(th), r*np.sin(th)\n",
    "\n",
    "    # Approx enclosed mass: disk + cored bulge\n",
    "    M_disk  = M_total * (1.0 - bulge_frac)\n",
    "    M_bulge = M_total * bulge_frac\n",
    "    a = 2.5 * bulge_sigma + 1e-6\n",
    "    M_enc = M_disk * (1.0 - np.exp(-r/R_d)*(1.0 + r/R_d)) + M_bulge * (r**2/(r**2 + a**2))\n",
    "\n",
    "    # Circular speed (avoid div-by-zero near center)\n",
    "    v_c = np.sqrt(np.maximum(0.0, G_used * M_enc / np.maximum(r, 0.5)))\n",
    "\n",
    "    # Tangential directions\n",
    "    tx, ty = rot_sign * (-np.sin(th)), rot_sign * (np.cos(th))\n",
    "    vxd = v_c * tx + rng.normal(0.0, v_disp, size=n_disk)\n",
    "    vyd = v_c * ty + rng.normal(0.0, v_disp, size=n_disk)\n",
    "\n",
    "    for i in range(n_disk):\n",
    "        pts.append(Point(float(xd[i]), float(yd[i]), mass=m,\n",
    "                         vx=float(vxd[i]), vy=float(vyd[i])))\n",
    "    return pts\n"
   ]
  },
  {
   "cell_type": "code",
   "execution_count": 7,
   "id": "da402ebf-a98d-4823-97ae-8b66c9bdc363",
   "metadata": {},
   "outputs": [
    {
     "data": {
      "text/plain": [
       "22.0"
      ]
     },
     "execution_count": 7,
     "metadata": {},
     "output_type": "execute_result"
    }
   ],
   "source": [
    "660/30"
   ]
  },
  {
   "cell_type": "code",
   "execution_count": 8,
   "id": "a958eff3-8c26-433e-8fa3-adb4391dad3f",
   "metadata": {},
   "outputs": [
    {
     "name": "stdout",
     "output_type": "stream",
     "text": [
      "Final KE: 378.1153921521314 Total momentum: (np.float64(-8.564875357058613), np.float64(1.3100647422848162))\n"
     ]
    }
   ],
   "source": [
    "G_sim = 0.1\n",
    "pts = make_exponential_disk(\n",
    "    n_total=360,\n",
    "    R_d=7.0,\n",
    "    R_max=35.0,\n",
    "    M_total=360.0,\n",
    "    G_used=G_sim,\n",
    "    bulge_frac=0.18,\n",
    "    bulge_sigma=2.0,\n",
    "    rot_sign=+1,    # flip to -1 for clockwise\n",
    "    v_disp=0.08,\n",
    "    seed=42,\n",
    ")\n",
    "\n",
    "barnes_hut_sim(\n",
    "    pts,\n",
    "    dt=0.06,\n",
    "    G=G_sim,\n",
    "    theta=0.6,\n",
    "    eps=0.15,\n",
    "    capacity=1,\n",
    "    max_depth=32,\n",
    "    n_frames=640,            # bump up for longer runs\n",
    "    draw_quadtree=False,\n",
    "    fixed_viewport=(-45, 45, -45, 45),\n",
    "    # save_to_video=\"./Outputs/Barnes-Hut/ep2.mp4\",      # set e.g. \"/mnt/data/galaxy.mp4\" if cv2 is available\n",
    "    video_fps=30\n",
    ")\n",
    "\n",
    "print(\"Final KE:\", kinetic_energy(pts), \"Total momentum:\", total_momentum(pts))\n"
   ]
  }
 ],
 "metadata": {
  "kernelspec": {
   "display_name": "Python 3 (ipykernel)",
   "language": "python",
   "name": "python3"
  },
  "language_info": {
   "codemirror_mode": {
    "name": "ipython",
    "version": 3
   },
   "file_extension": ".py",
   "mimetype": "text/x-python",
   "name": "python",
   "nbconvert_exporter": "python",
   "pygments_lexer": "ipython3",
   "version": "3.12.3"
  }
 },
 "nbformat": 4,
 "nbformat_minor": 5
}
