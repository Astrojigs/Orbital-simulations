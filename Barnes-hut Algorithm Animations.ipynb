{
 "cells": [
  {
   "cell_type": "code",
   "execution_count": 1,
   "id": "b2dc9590-f411-4518-8f74-ad0c0ef7066b",
   "metadata": {},
   "outputs": [],
   "source": [
    "from barnes_hut import *"
   ]
  },
  {
   "cell_type": "markdown",
   "id": "38bc1a69-8f8c-4170-b431-597669ffa6e3",
   "metadata": {},
   "source": [
    "### Galaxy (cluster) function"
   ]
  },
  {
   "cell_type": "code",
   "execution_count": 2,
   "id": "fe82cd20-8550-4fa0-824a-e9952e67ada8",
   "metadata": {},
   "outputs": [],
   "source": [
    "def make_exponential_disk(\n",
    "    n_total: int = 400,\n",
    "    R_d: float = 8.0,\n",
    "    R_max: float = 40.0,\n",
    "    M_total: float = 400.0,\n",
    "    G_used: float = 0.1,\n",
    "    bulge_frac: float = 0.15,\n",
    "    bulge_sigma: float = 2.0,\n",
    "    rot_sign: int = +1,\n",
    "    v_disp: float = 0.05,\n",
    "    seed: int = 7,\n",
    ") -> list[Point]:\n",
    "    \"\"\"\n",
    "    Galaxy-like ICs: exponential disk (Σ∝e^{-r/R_d}) + small Gaussian bulge.\n",
    "    - Samples disk radii via Erlang k=2 trick (r = R_d*(E1+E2)).\n",
    "    - Sets approximate circular velocities from M(<r) of disk+bulge.\n",
    "    - Adds a tiny velocity dispersion to keep it from being perfectly cold.\n",
    "    \"\"\"\n",
    "    import numpy as np\n",
    "    rng = np.random.default_rng(seed)\n",
    "    n_bulge = int(bulge_frac * n_total)\n",
    "    n_disk  = n_total - n_bulge\n",
    "    m = M_total / n_total\n",
    "    pts: list[Point] = []\n",
    "\n",
    "    # Bulge (2D Gaussian)\n",
    "    if n_bulge > 0:\n",
    "        xb = rng.normal(0.0, bulge_sigma, size=n_bulge)\n",
    "        yb = rng.normal(0.0, bulge_sigma, size=n_bulge)\n",
    "        vxb = rng.normal(0.0, v_disp, size=n_bulge)\n",
    "        vyb = rng.normal(0.0, v_disp, size=n_bulge)\n",
    "        for i in range(n_bulge):\n",
    "            pts.append(Point(float(xb[i]), float(yb[i]), mass=m,\n",
    "                             vx=float(vxb[i]), vy=float(vyb[i])))\n",
    "\n",
    "    # Disk (Σ ∝ e^{-r/Rd} → p(r) ∝ r e^{-r/Rd}; sample with Erlang k=2)\n",
    "    e1 = rng.exponential(1.0, size=n_disk)\n",
    "    e2 = rng.exponential(1.0, size=n_disk)\n",
    "    r = R_d * (e1 + e2)\n",
    "    r = np.clip(r, 0.0, R_max)\n",
    "    th = rng.uniform(0, 2*np.pi, size=n_disk)\n",
    "    xd, yd = r*np.cos(th), r*np.sin(th)\n",
    "\n",
    "    # Approx enclosed mass: disk + cored bulge\n",
    "    M_disk  = M_total * (1.0 - bulge_frac)\n",
    "    M_bulge = M_total * bulge_frac\n",
    "    a = 2.5 * bulge_sigma + 1e-6\n",
    "    M_enc = M_disk * (1.0 - np.exp(-r/R_d)*(1.0 + r/R_d)) + M_bulge * (r**2/(r**2 + a**2))\n",
    "\n",
    "    # Circular speed (avoid div-by-zero near center)\n",
    "    v_c = np.sqrt(np.maximum(0.0, G_used * M_enc / np.maximum(r, 0.5)))\n",
    "\n",
    "    # Tangential directions\n",
    "    tx, ty = rot_sign * (-np.sin(th)), rot_sign * (np.cos(th))\n",
    "    vxd = v_c * tx + rng.normal(0.0, v_disp, size=n_disk)\n",
    "    vyd = v_c * ty + rng.normal(0.0, v_disp, size=n_disk)\n",
    "\n",
    "    for i in range(n_disk):\n",
    "        pts.append(Point(float(xd[i]), float(yd[i]), mass=m,\n",
    "                         vx=float(vxd[i]), vy=float(vyd[i])))\n",
    "    return pts\n"
   ]
  },
  {
   "cell_type": "code",
   "execution_count": 14,
   "id": "a958eff3-8c26-433e-8fa3-adb4391dad3f",
   "metadata": {},
   "outputs": [
    {
     "ename": "KeyboardInterrupt",
     "evalue": "",
     "output_type": "error",
     "traceback": [
      "\u001b[1;31m---------------------------------------------------------------------------\u001b[0m",
      "\u001b[1;31mKeyboardInterrupt\u001b[0m                         Traceback (most recent call last)",
      "Cell \u001b[1;32mIn[14], line 15\u001b[0m\n\u001b[0;32m      1\u001b[0m G_sim \u001b[38;5;241m=\u001b[39m \u001b[38;5;241m0.1\u001b[39m\n\u001b[0;32m      2\u001b[0m pts \u001b[38;5;241m=\u001b[39m make_exponential_disk(\n\u001b[0;32m      3\u001b[0m     n_total\u001b[38;5;241m=\u001b[39m\u001b[38;5;241m360\u001b[39m,\n\u001b[0;32m      4\u001b[0m     R_d\u001b[38;5;241m=\u001b[39m\u001b[38;5;241m7.0\u001b[39m,\n\u001b[1;32m   (...)\u001b[0m\n\u001b[0;32m     12\u001b[0m     seed\u001b[38;5;241m=\u001b[39m\u001b[38;5;241m42\u001b[39m,\n\u001b[0;32m     13\u001b[0m )\n\u001b[1;32m---> 15\u001b[0m \u001b[43mbarnes_hut_sim\u001b[49m\u001b[43m(\u001b[49m\n\u001b[0;32m     16\u001b[0m \u001b[43m    \u001b[49m\u001b[43mpts\u001b[49m\u001b[43m,\u001b[49m\n\u001b[0;32m     17\u001b[0m \u001b[43m    \u001b[49m\u001b[43mdt\u001b[49m\u001b[38;5;241;43m=\u001b[39;49m\u001b[38;5;241;43m0.06\u001b[39;49m\u001b[43m,\u001b[49m\n\u001b[0;32m     18\u001b[0m \u001b[43m    \u001b[49m\u001b[43mG\u001b[49m\u001b[38;5;241;43m=\u001b[39;49m\u001b[43mG_sim\u001b[49m\u001b[43m,\u001b[49m\n\u001b[0;32m     19\u001b[0m \u001b[43m    \u001b[49m\u001b[43mtheta\u001b[49m\u001b[38;5;241;43m=\u001b[39;49m\u001b[38;5;241;43m0.6\u001b[39;49m\u001b[43m,\u001b[49m\n\u001b[0;32m     20\u001b[0m \u001b[43m    \u001b[49m\u001b[43meps\u001b[49m\u001b[38;5;241;43m=\u001b[39;49m\u001b[38;5;241;43m0.15\u001b[39;49m\u001b[43m,\u001b[49m\n\u001b[0;32m     21\u001b[0m \u001b[43m    \u001b[49m\u001b[43mcapacity\u001b[49m\u001b[38;5;241;43m=\u001b[39;49m\u001b[38;5;241;43m1\u001b[39;49m\u001b[43m,\u001b[49m\n\u001b[0;32m     22\u001b[0m \u001b[43m    \u001b[49m\u001b[43mmax_depth\u001b[49m\u001b[38;5;241;43m=\u001b[39;49m\u001b[38;5;241;43m32\u001b[39;49m\u001b[43m,\u001b[49m\n\u001b[0;32m     23\u001b[0m \u001b[43m    \u001b[49m\u001b[43mn_frames\u001b[49m\u001b[38;5;241;43m=\u001b[39;49m\u001b[38;5;241;43m640\u001b[39;49m\u001b[43m,\u001b[49m\u001b[43m            \u001b[49m\u001b[38;5;66;43;03m# bump up for longer runs\u001b[39;49;00m\n\u001b[0;32m     24\u001b[0m \u001b[43m    \u001b[49m\u001b[43mdraw_quadtree\u001b[49m\u001b[38;5;241;43m=\u001b[39;49m\u001b[38;5;28;43;01mFalse\u001b[39;49;00m\u001b[43m,\u001b[49m\n\u001b[0;32m     25\u001b[0m \u001b[43m    \u001b[49m\u001b[43mfixed_viewport\u001b[49m\u001b[38;5;241;43m=\u001b[39;49m\u001b[43m(\u001b[49m\u001b[38;5;241;43m-\u001b[39;49m\u001b[38;5;241;43m45\u001b[39;49m\u001b[43m,\u001b[49m\u001b[43m \u001b[49m\u001b[38;5;241;43m45\u001b[39;49m\u001b[43m,\u001b[49m\u001b[43m \u001b[49m\u001b[38;5;241;43m-\u001b[39;49m\u001b[38;5;241;43m45\u001b[39;49m\u001b[43m,\u001b[49m\u001b[43m \u001b[49m\u001b[38;5;241;43m45\u001b[39;49m\u001b[43m)\u001b[49m\u001b[43m,\u001b[49m\n\u001b[0;32m     26\u001b[0m \u001b[43m    \u001b[49m\u001b[38;5;66;43;03m# save_to_video=\"./Outputs/Barnes-Hut/ep2.mp4\",      # set e.g. \"/mnt/data/galaxy.mp4\" if cv2 is available\u001b[39;49;00m\n\u001b[0;32m     27\u001b[0m \u001b[43m    \u001b[49m\u001b[43mvideo_fps\u001b[49m\u001b[38;5;241;43m=\u001b[39;49m\u001b[38;5;241;43m30\u001b[39;49m\n\u001b[0;32m     28\u001b[0m \u001b[43m)\u001b[49m\n\u001b[0;32m     30\u001b[0m \u001b[38;5;28mprint\u001b[39m(\u001b[38;5;124m\"\u001b[39m\u001b[38;5;124mFinal KE:\u001b[39m\u001b[38;5;124m\"\u001b[39m, kinetic_energy(pts), \u001b[38;5;124m\"\u001b[39m\u001b[38;5;124mTotal momentum:\u001b[39m\u001b[38;5;124m\"\u001b[39m, total_momentum(pts))\n",
      "File \u001b[1;32m~\\Documents\\GitHub\\Orbital-simulations\\barnes_hut.py:445\u001b[0m, in \u001b[0;36mbarnes_hut_sim\u001b[1;34m(points, dt, G, theta, eps, capacity, max_depth, n_frames, draw_quadtree, fixed_viewport, save_to_video, video_fps)\u001b[0m\n\u001b[0;32m    442\u001b[0m     tree\u001b[38;5;241m.\u001b[39minsert(p)\n\u001b[0;32m    444\u001b[0m \u001b[38;5;66;03m# New accelerations\u001b[39;00m\n\u001b[1;32m--> 445\u001b[0m ax, ay \u001b[38;5;241m=\u001b[39m \u001b[43m_compute_accelerations\u001b[49m\u001b[43m(\u001b[49m\u001b[43mpoints\u001b[49m\u001b[43m,\u001b[49m\u001b[43m \u001b[49m\u001b[43mtree\u001b[49m\u001b[43m)\u001b[49m\n\u001b[0;32m    447\u001b[0m \u001b[38;5;66;03m# Half-kick\u001b[39;00m\n\u001b[0;32m    448\u001b[0m \u001b[38;5;28;01mfor\u001b[39;00m i, p \u001b[38;5;129;01min\u001b[39;00m \u001b[38;5;28menumerate\u001b[39m(points):\n",
      "File \u001b[1;32m~\\Documents\\GitHub\\Orbital-simulations\\barnes_hut.py:356\u001b[0m, in \u001b[0;36m_compute_accelerations\u001b[1;34m(points, tree)\u001b[0m\n\u001b[0;32m    354\u001b[0m ay \u001b[38;5;241m=\u001b[39m np\u001b[38;5;241m.\u001b[39mzeros(N, dtype\u001b[38;5;241m=\u001b[39mnp\u001b[38;5;241m.\u001b[39mfloat64)\n\u001b[0;32m    355\u001b[0m \u001b[38;5;28;01mfor\u001b[39;00m i, p \u001b[38;5;129;01min\u001b[39;00m \u001b[38;5;28menumerate\u001b[39m(points):\n\u001b[1;32m--> 356\u001b[0m     fx, fy \u001b[38;5;241m=\u001b[39m \u001b[43mtree\u001b[49m\u001b[38;5;241;43m.\u001b[39;49m\u001b[43mcalculate_force\u001b[49m\u001b[43m(\u001b[49m\u001b[43mp\u001b[49m\u001b[43m)\u001b[49m\n\u001b[0;32m    357\u001b[0m     ax[i] \u001b[38;5;241m=\u001b[39m fx \u001b[38;5;241m/\u001b[39m p\u001b[38;5;241m.\u001b[39mmass\n\u001b[0;32m    358\u001b[0m     ay[i] \u001b[38;5;241m=\u001b[39m fy \u001b[38;5;241m/\u001b[39m p\u001b[38;5;241m.\u001b[39mmass\n",
      "File \u001b[1;32m~\\Documents\\GitHub\\Orbital-simulations\\barnes_hut.py:303\u001b[0m, in \u001b[0;36mQuadtree.calculate_force\u001b[1;34m(self, p)\u001b[0m\n\u001b[0;32m    301\u001b[0m \u001b[38;5;28;01mfor\u001b[39;00m ch \u001b[38;5;129;01min\u001b[39;00m \u001b[38;5;28mself\u001b[39m\u001b[38;5;241m.\u001b[39mchildren:\n\u001b[0;32m    302\u001b[0m     \u001b[38;5;28;01mif\u001b[39;00m ch \u001b[38;5;129;01mis\u001b[39;00m \u001b[38;5;129;01mnot\u001b[39;00m \u001b[38;5;28;01mNone\u001b[39;00m \u001b[38;5;129;01mand\u001b[39;00m ch\u001b[38;5;241m.\u001b[39mmass \u001b[38;5;241m>\u001b[39m \u001b[38;5;241m0.0\u001b[39m:\n\u001b[1;32m--> 303\u001b[0m         cx, cy \u001b[38;5;241m=\u001b[39m \u001b[43mch\u001b[49m\u001b[38;5;241;43m.\u001b[39;49m\u001b[43mcalculate_force\u001b[49m\u001b[43m(\u001b[49m\u001b[43mp\u001b[49m\u001b[43m)\u001b[49m\n\u001b[0;32m    304\u001b[0m         fx \u001b[38;5;241m+\u001b[39m\u001b[38;5;241m=\u001b[39m cx\n\u001b[0;32m    305\u001b[0m         fy \u001b[38;5;241m+\u001b[39m\u001b[38;5;241m=\u001b[39m cy\n",
      "File \u001b[1;32m~\\Documents\\GitHub\\Orbital-simulations\\barnes_hut.py:303\u001b[0m, in \u001b[0;36mQuadtree.calculate_force\u001b[1;34m(self, p)\u001b[0m\n\u001b[0;32m    301\u001b[0m \u001b[38;5;28;01mfor\u001b[39;00m ch \u001b[38;5;129;01min\u001b[39;00m \u001b[38;5;28mself\u001b[39m\u001b[38;5;241m.\u001b[39mchildren:\n\u001b[0;32m    302\u001b[0m     \u001b[38;5;28;01mif\u001b[39;00m ch \u001b[38;5;129;01mis\u001b[39;00m \u001b[38;5;129;01mnot\u001b[39;00m \u001b[38;5;28;01mNone\u001b[39;00m \u001b[38;5;129;01mand\u001b[39;00m ch\u001b[38;5;241m.\u001b[39mmass \u001b[38;5;241m>\u001b[39m \u001b[38;5;241m0.0\u001b[39m:\n\u001b[1;32m--> 303\u001b[0m         cx, cy \u001b[38;5;241m=\u001b[39m \u001b[43mch\u001b[49m\u001b[38;5;241;43m.\u001b[39;49m\u001b[43mcalculate_force\u001b[49m\u001b[43m(\u001b[49m\u001b[43mp\u001b[49m\u001b[43m)\u001b[49m\n\u001b[0;32m    304\u001b[0m         fx \u001b[38;5;241m+\u001b[39m\u001b[38;5;241m=\u001b[39m cx\n\u001b[0;32m    305\u001b[0m         fy \u001b[38;5;241m+\u001b[39m\u001b[38;5;241m=\u001b[39m cy\n",
      "    \u001b[1;31m[... skipping similar frames: Quadtree.calculate_force at line 303 (3 times)]\u001b[0m\n",
      "File \u001b[1;32m~\\Documents\\GitHub\\Orbital-simulations\\barnes_hut.py:303\u001b[0m, in \u001b[0;36mQuadtree.calculate_force\u001b[1;34m(self, p)\u001b[0m\n\u001b[0;32m    301\u001b[0m \u001b[38;5;28;01mfor\u001b[39;00m ch \u001b[38;5;129;01min\u001b[39;00m \u001b[38;5;28mself\u001b[39m\u001b[38;5;241m.\u001b[39mchildren:\n\u001b[0;32m    302\u001b[0m     \u001b[38;5;28;01mif\u001b[39;00m ch \u001b[38;5;129;01mis\u001b[39;00m \u001b[38;5;129;01mnot\u001b[39;00m \u001b[38;5;28;01mNone\u001b[39;00m \u001b[38;5;129;01mand\u001b[39;00m ch\u001b[38;5;241m.\u001b[39mmass \u001b[38;5;241m>\u001b[39m \u001b[38;5;241m0.0\u001b[39m:\n\u001b[1;32m--> 303\u001b[0m         cx, cy \u001b[38;5;241m=\u001b[39m \u001b[43mch\u001b[49m\u001b[38;5;241;43m.\u001b[39;49m\u001b[43mcalculate_force\u001b[49m\u001b[43m(\u001b[49m\u001b[43mp\u001b[49m\u001b[43m)\u001b[49m\n\u001b[0;32m    304\u001b[0m         fx \u001b[38;5;241m+\u001b[39m\u001b[38;5;241m=\u001b[39m cx\n\u001b[0;32m    305\u001b[0m         fy \u001b[38;5;241m+\u001b[39m\u001b[38;5;241m=\u001b[39m cy\n",
      "File \u001b[1;32m~\\Documents\\GitHub\\Orbital-simulations\\barnes_hut.py:289\u001b[0m, in \u001b[0;36mQuadtree.calculate_force\u001b[1;34m(self, p)\u001b[0m\n\u001b[0;32m    287\u001b[0m         s \u001b[38;5;241m=\u001b[39m \u001b[38;5;28mself\u001b[39m\u001b[38;5;241m.\u001b[39mG \u001b[38;5;241m*\u001b[39m p\u001b[38;5;241m.\u001b[39mmass \u001b[38;5;241m*\u001b[39m q\u001b[38;5;241m.\u001b[39mmass \u001b[38;5;241m*\u001b[39m invr3\n\u001b[0;32m    288\u001b[0m         fx \u001b[38;5;241m+\u001b[39m\u001b[38;5;241m=\u001b[39m s \u001b[38;5;241m*\u001b[39m qdx\n\u001b[1;32m--> 289\u001b[0m         fy \u001b[38;5;241m+\u001b[39m\u001b[38;5;241m=\u001b[39m s \u001b[38;5;241m*\u001b[39m qdy\n\u001b[0;32m    290\u001b[0m     \u001b[38;5;28;01mreturn\u001b[39;00m fx, fy\n\u001b[0;32m    292\u001b[0m \u001b[38;5;66;03m# Internal node: Barnes–Hut opening criterion\u001b[39;00m\n",
      "\u001b[1;31mKeyboardInterrupt\u001b[0m: "
     ]
    }
   ],
   "source": [
    "G_sim = 0.1\n",
    "pts = make_exponential_disk(\n",
    "    n_total=360,\n",
    "    R_d=7.0,\n",
    "    R_max=35.0,\n",
    "    M_total=360.0,\n",
    "    G_used=G_sim,\n",
    "    bulge_frac=0.18,\n",
    "    bulge_sigma=2.0,\n",
    "    rot_sign=+1,    # flip to -1 for clockwise\n",
    "    v_disp=0.08,\n",
    "    seed=42,\n",
    ")\n",
    "\n",
    "barnes_hut_sim(\n",
    "    pts,\n",
    "    dt=0.06,\n",
    "    G=G_sim,\n",
    "    theta=0.6,\n",
    "    eps=0.15,\n",
    "    capacity=1,\n",
    "    max_depth=32,\n",
    "    n_frames=640,            # bump up for longer runs\n",
    "    draw_quadtree=False,\n",
    "    fixed_viewport=(-45, 45, -45, 45),\n",
    "    # save_to_video=\"./Outputs/Barnes-Hut/ep2.mp4\",      # set e.g. \"/mnt/data/galaxy.mp4\" if cv2 is available\n",
    "    video_fps=30\n",
    ")\n",
    "\n",
    "print(\"Final KE:\", kinetic_energy(pts), \"Total momentum:\", total_momentum(pts))\n"
   ]
  },
  {
   "cell_type": "markdown",
   "id": "4fc4f0d4-2437-45e4-a46b-f4342fbebb37",
   "metadata": {},
   "source": [
    "## More stars"
   ]
  },
  {
   "cell_type": "code",
   "execution_count": 15,
   "id": "37e9143d-9c01-4f8d-b2fd-9ce68a5bcc66",
   "metadata": {},
   "outputs": [
    {
     "ename": "KeyboardInterrupt",
     "evalue": "",
     "output_type": "error",
     "traceback": [
      "\u001b[1;31m---------------------------------------------------------------------------\u001b[0m",
      "\u001b[1;31mKeyboardInterrupt\u001b[0m                         Traceback (most recent call last)",
      "Cell \u001b[1;32mIn[15], line 16\u001b[0m\n\u001b[0;32m      1\u001b[0m G_sim \u001b[38;5;241m=\u001b[39m \u001b[38;5;241m0.1\u001b[39m\n\u001b[0;32m      2\u001b[0m pts \u001b[38;5;241m=\u001b[39m make_exponential_disk(\n\u001b[0;32m      3\u001b[0m     n_total\u001b[38;5;241m=\u001b[39m\u001b[38;5;241m3600\u001b[39m,\n\u001b[0;32m      4\u001b[0m     R_d\u001b[38;5;241m=\u001b[39m\u001b[38;5;241m7.0\u001b[39m,\n\u001b[1;32m   (...)\u001b[0m\n\u001b[0;32m     12\u001b[0m     seed\u001b[38;5;241m=\u001b[39m\u001b[38;5;241m42\u001b[39m,\n\u001b[0;32m     13\u001b[0m )\n\u001b[1;32m---> 16\u001b[0m \u001b[43mbarnes_hut_sim\u001b[49m\u001b[43m(\u001b[49m\n\u001b[0;32m     17\u001b[0m \u001b[43m    \u001b[49m\u001b[43mpts\u001b[49m\u001b[43m,\u001b[49m\n\u001b[0;32m     18\u001b[0m \u001b[43m    \u001b[49m\u001b[43mdt\u001b[49m\u001b[38;5;241;43m=\u001b[39;49m\u001b[38;5;241;43m0.08\u001b[39;49m\u001b[43m,\u001b[49m\u001b[43m           \u001b[49m\u001b[38;5;66;43;03m# larger step for speed\u001b[39;49;00m\n\u001b[0;32m     19\u001b[0m \u001b[43m    \u001b[49m\u001b[43mG\u001b[49m\u001b[38;5;241;43m=\u001b[39;49m\u001b[38;5;241;43m0.1\u001b[39;49m\u001b[43m,\u001b[49m\n\u001b[0;32m     20\u001b[0m \u001b[43m    \u001b[49m\u001b[43mtheta\u001b[49m\u001b[38;5;241;43m=\u001b[39;49m\u001b[38;5;241;43m1.0\u001b[39;49m\u001b[43m,\u001b[49m\u001b[43m         \u001b[49m\u001b[38;5;66;43;03m# most aggressive approximation\u001b[39;49;00m\n\u001b[0;32m     21\u001b[0m \u001b[43m    \u001b[49m\u001b[43meps\u001b[49m\u001b[38;5;241;43m=\u001b[39;49m\u001b[38;5;241;43m0.35\u001b[39;49m\u001b[43m,\u001b[49m\u001b[43m          \u001b[49m\u001b[38;5;66;43;03m# see rule-of-thumb below\u001b[39;49;00m\n\u001b[0;32m     22\u001b[0m \u001b[43m    \u001b[49m\u001b[43mcapacity\u001b[49m\u001b[38;5;241;43m=\u001b[39;49m\u001b[38;5;241;43m16\u001b[39;49m\u001b[43m,\u001b[49m\u001b[43m       \u001b[49m\u001b[38;5;66;43;03m# chunkier leaves => shallower tree\u001b[39;49;00m\n\u001b[0;32m     23\u001b[0m \u001b[43m    \u001b[49m\u001b[43mmax_depth\u001b[49m\u001b[38;5;241;43m=\u001b[39;49m\u001b[38;5;241;43m24\u001b[39;49m\u001b[43m,\u001b[49m\n\u001b[0;32m     24\u001b[0m \u001b[43m    \u001b[49m\u001b[43mn_frames\u001b[49m\u001b[38;5;241;43m=\u001b[39;49m\u001b[38;5;241;43m200\u001b[39;49m\u001b[43m,\u001b[49m\n\u001b[0;32m     25\u001b[0m \u001b[43m    \u001b[49m\u001b[43mdraw_quadtree\u001b[49m\u001b[38;5;241;43m=\u001b[39;49m\u001b[38;5;28;43;01mFalse\u001b[39;49;00m\u001b[43m,\u001b[49m\n\u001b[0;32m     26\u001b[0m \u001b[43m    \u001b[49m\u001b[43mfixed_viewport\u001b[49m\u001b[38;5;241;43m=\u001b[39;49m\u001b[43m(\u001b[49m\u001b[38;5;241;43m-\u001b[39;49m\u001b[38;5;241;43m45\u001b[39;49m\u001b[43m,\u001b[49m\u001b[38;5;241;43m45\u001b[39;49m\u001b[43m,\u001b[49m\u001b[38;5;241;43m-\u001b[39;49m\u001b[38;5;241;43m45\u001b[39;49m\u001b[43m,\u001b[49m\u001b[38;5;241;43m45\u001b[39;49m\u001b[43m)\u001b[49m\u001b[43m,\u001b[49m\n\u001b[0;32m     27\u001b[0m \u001b[43m    \u001b[49m\u001b[43msave_to_video\u001b[49m\u001b[38;5;241;43m=\u001b[39;49m\u001b[38;5;124;43m\"\u001b[39;49m\u001b[38;5;124;43m./Outputs/Barnes-Hut/3600.mp4\u001b[39;49m\u001b[38;5;124;43m\"\u001b[39;49m\u001b[43m,\u001b[49m\n\u001b[0;32m     28\u001b[0m \u001b[43m    \u001b[49m\u001b[43mvideo_fps\u001b[49m\u001b[38;5;241;43m=\u001b[39;49m\u001b[38;5;241;43m30\u001b[39;49m\n\u001b[0;32m     29\u001b[0m \u001b[43m)\u001b[49m\n",
      "File \u001b[1;32m~\\Documents\\GitHub\\Orbital-simulations\\barnes_hut.py:445\u001b[0m, in \u001b[0;36mbarnes_hut_sim\u001b[1;34m(points, dt, G, theta, eps, capacity, max_depth, n_frames, draw_quadtree, fixed_viewport, save_to_video, video_fps)\u001b[0m\n\u001b[0;32m    442\u001b[0m     tree\u001b[38;5;241m.\u001b[39minsert(p)\n\u001b[0;32m    444\u001b[0m \u001b[38;5;66;03m# New accelerations\u001b[39;00m\n\u001b[1;32m--> 445\u001b[0m ax, ay \u001b[38;5;241m=\u001b[39m \u001b[43m_compute_accelerations\u001b[49m\u001b[43m(\u001b[49m\u001b[43mpoints\u001b[49m\u001b[43m,\u001b[49m\u001b[43m \u001b[49m\u001b[43mtree\u001b[49m\u001b[43m)\u001b[49m\n\u001b[0;32m    447\u001b[0m \u001b[38;5;66;03m# Half-kick\u001b[39;00m\n\u001b[0;32m    448\u001b[0m \u001b[38;5;28;01mfor\u001b[39;00m i, p \u001b[38;5;129;01min\u001b[39;00m \u001b[38;5;28menumerate\u001b[39m(points):\n",
      "File \u001b[1;32m~\\Documents\\GitHub\\Orbital-simulations\\barnes_hut.py:356\u001b[0m, in \u001b[0;36m_compute_accelerations\u001b[1;34m(points, tree)\u001b[0m\n\u001b[0;32m    354\u001b[0m ay \u001b[38;5;241m=\u001b[39m np\u001b[38;5;241m.\u001b[39mzeros(N, dtype\u001b[38;5;241m=\u001b[39mnp\u001b[38;5;241m.\u001b[39mfloat64)\n\u001b[0;32m    355\u001b[0m \u001b[38;5;28;01mfor\u001b[39;00m i, p \u001b[38;5;129;01min\u001b[39;00m \u001b[38;5;28menumerate\u001b[39m(points):\n\u001b[1;32m--> 356\u001b[0m     fx, fy \u001b[38;5;241m=\u001b[39m \u001b[43mtree\u001b[49m\u001b[38;5;241;43m.\u001b[39;49m\u001b[43mcalculate_force\u001b[49m\u001b[43m(\u001b[49m\u001b[43mp\u001b[49m\u001b[43m)\u001b[49m\n\u001b[0;32m    357\u001b[0m     ax[i] \u001b[38;5;241m=\u001b[39m fx \u001b[38;5;241m/\u001b[39m p\u001b[38;5;241m.\u001b[39mmass\n\u001b[0;32m    358\u001b[0m     ay[i] \u001b[38;5;241m=\u001b[39m fy \u001b[38;5;241m/\u001b[39m p\u001b[38;5;241m.\u001b[39mmass\n",
      "File \u001b[1;32m~\\Documents\\GitHub\\Orbital-simulations\\barnes_hut.py:303\u001b[0m, in \u001b[0;36mQuadtree.calculate_force\u001b[1;34m(self, p)\u001b[0m\n\u001b[0;32m    301\u001b[0m \u001b[38;5;28;01mfor\u001b[39;00m ch \u001b[38;5;129;01min\u001b[39;00m \u001b[38;5;28mself\u001b[39m\u001b[38;5;241m.\u001b[39mchildren:\n\u001b[0;32m    302\u001b[0m     \u001b[38;5;28;01mif\u001b[39;00m ch \u001b[38;5;129;01mis\u001b[39;00m \u001b[38;5;129;01mnot\u001b[39;00m \u001b[38;5;28;01mNone\u001b[39;00m \u001b[38;5;129;01mand\u001b[39;00m ch\u001b[38;5;241m.\u001b[39mmass \u001b[38;5;241m>\u001b[39m \u001b[38;5;241m0.0\u001b[39m:\n\u001b[1;32m--> 303\u001b[0m         cx, cy \u001b[38;5;241m=\u001b[39m \u001b[43mch\u001b[49m\u001b[38;5;241;43m.\u001b[39;49m\u001b[43mcalculate_force\u001b[49m\u001b[43m(\u001b[49m\u001b[43mp\u001b[49m\u001b[43m)\u001b[49m\n\u001b[0;32m    304\u001b[0m         fx \u001b[38;5;241m+\u001b[39m\u001b[38;5;241m=\u001b[39m cx\n\u001b[0;32m    305\u001b[0m         fy \u001b[38;5;241m+\u001b[39m\u001b[38;5;241m=\u001b[39m cy\n",
      "File \u001b[1;32m~\\Documents\\GitHub\\Orbital-simulations\\barnes_hut.py:303\u001b[0m, in \u001b[0;36mQuadtree.calculate_force\u001b[1;34m(self, p)\u001b[0m\n\u001b[0;32m    301\u001b[0m \u001b[38;5;28;01mfor\u001b[39;00m ch \u001b[38;5;129;01min\u001b[39;00m \u001b[38;5;28mself\u001b[39m\u001b[38;5;241m.\u001b[39mchildren:\n\u001b[0;32m    302\u001b[0m     \u001b[38;5;28;01mif\u001b[39;00m ch \u001b[38;5;129;01mis\u001b[39;00m \u001b[38;5;129;01mnot\u001b[39;00m \u001b[38;5;28;01mNone\u001b[39;00m \u001b[38;5;129;01mand\u001b[39;00m ch\u001b[38;5;241m.\u001b[39mmass \u001b[38;5;241m>\u001b[39m \u001b[38;5;241m0.0\u001b[39m:\n\u001b[1;32m--> 303\u001b[0m         cx, cy \u001b[38;5;241m=\u001b[39m \u001b[43mch\u001b[49m\u001b[38;5;241;43m.\u001b[39;49m\u001b[43mcalculate_force\u001b[49m\u001b[43m(\u001b[49m\u001b[43mp\u001b[49m\u001b[43m)\u001b[49m\n\u001b[0;32m    304\u001b[0m         fx \u001b[38;5;241m+\u001b[39m\u001b[38;5;241m=\u001b[39m cx\n\u001b[0;32m    305\u001b[0m         fy \u001b[38;5;241m+\u001b[39m\u001b[38;5;241m=\u001b[39m cy\n",
      "File \u001b[1;32m~\\Documents\\GitHub\\Orbital-simulations\\barnes_hut.py:289\u001b[0m, in \u001b[0;36mQuadtree.calculate_force\u001b[1;34m(self, p)\u001b[0m\n\u001b[0;32m    287\u001b[0m         s \u001b[38;5;241m=\u001b[39m \u001b[38;5;28mself\u001b[39m\u001b[38;5;241m.\u001b[39mG \u001b[38;5;241m*\u001b[39m p\u001b[38;5;241m.\u001b[39mmass \u001b[38;5;241m*\u001b[39m q\u001b[38;5;241m.\u001b[39mmass \u001b[38;5;241m*\u001b[39m invr3\n\u001b[0;32m    288\u001b[0m         fx \u001b[38;5;241m+\u001b[39m\u001b[38;5;241m=\u001b[39m s \u001b[38;5;241m*\u001b[39m qdx\n\u001b[1;32m--> 289\u001b[0m         fy \u001b[38;5;241m+\u001b[39m\u001b[38;5;241m=\u001b[39m s \u001b[38;5;241m*\u001b[39m qdy\n\u001b[0;32m    290\u001b[0m     \u001b[38;5;28;01mreturn\u001b[39;00m fx, fy\n\u001b[0;32m    292\u001b[0m \u001b[38;5;66;03m# Internal node: Barnes–Hut opening criterion\u001b[39;00m\n",
      "\u001b[1;31mKeyboardInterrupt\u001b[0m: "
     ]
    }
   ],
   "source": [
    "G_sim = 0.1\n",
    "pts = make_exponential_disk(\n",
    "    n_total=3600,\n",
    "    R_d=7.0,\n",
    "    R_max=35.0,\n",
    "    M_total=360.0,\n",
    "    G_used=G_sim,\n",
    "    bulge_frac=0.18,\n",
    "    bulge_sigma=2.0,\n",
    "    rot_sign=+1,    # flip to -1 for clockwise\n",
    "    v_disp=0.08,\n",
    "    seed=42,\n",
    ")\n",
    "\n",
    "\n",
    "barnes_hut_sim(\n",
    "    pts,\n",
    "    dt=0.08,           # larger step for speed\n",
    "    G=0.1,\n",
    "    theta=1.0,         # most aggressive approximation\n",
    "    eps=0.35,          # see rule-of-thumb below\n",
    "    capacity=16,       # chunkier leaves => shallower tree\n",
    "    max_depth=24,\n",
    "    n_frames=200,\n",
    "    draw_quadtree=False,\n",
    "    fixed_viewport=(-45,45,-45,45),\n",
    "    save_to_video=\"./Outputs/Barnes-Hut/3600.mp4\",\n",
    "    video_fps=30,\n",
    "    point_size=1,\n",
    "    point_color=''\n",
    ")\n"
   ]
  },
  {
   "cell_type": "code",
   "execution_count": null,
   "id": "dfb59824-a0ac-4e46-a567-b8c4a09ff2a1",
   "metadata": {},
   "outputs": [],
   "source": []
  }
 ],
 "metadata": {
  "kernelspec": {
   "display_name": "Python 3 (ipykernel)",
   "language": "python",
   "name": "python3"
  },
  "language_info": {
   "codemirror_mode": {
    "name": "ipython",
    "version": 3
   },
   "file_extension": ".py",
   "mimetype": "text/x-python",
   "name": "python",
   "nbconvert_exporter": "python",
   "pygments_lexer": "ipython3",
   "version": "3.12.3"
  }
 },
 "nbformat": 4,
 "nbformat_minor": 5
}
