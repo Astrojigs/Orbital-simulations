{
 "cells": [
  {
   "cell_type": "code",
   "execution_count": 106,
   "id": "15ed1c5a",
   "metadata": {},
   "outputs": [],
   "source": [
    "import astrojigs"
   ]
  },
  {
   "cell_type": "code",
   "execution_count": 107,
   "id": "8cfc0d65",
   "metadata": {},
   "outputs": [],
   "source": [
    "import numpy as np\n",
    "import matplotlib.pyplot as plt"
   ]
  },
  {
   "cell_type": "code",
   "execution_count": 108,
   "id": "a63a6bbf",
   "metadata": {},
   "outputs": [],
   "source": [
    "boundary = astrojigs.Rectangle(x=10,y=10,w=20,h=20)"
   ]
  },
  {
   "cell_type": "code",
   "execution_count": 80,
   "id": "08f4d022",
   "metadata": {},
   "outputs": [],
   "source": [
    "# Create points:\n",
    "points = [astrojigs.Point(np.random.randint(0,20),np.random.randint(0,20)) for i in range(10)]"
   ]
  },
  {
   "cell_type": "code",
   "execution_count": 81,
   "id": "b4f190f5",
   "metadata": {},
   "outputs": [],
   "source": [
    "quad = astrojigs.Quadtree(boundary=boundary,G=1,theta_=0.85)"
   ]
  },
  {
   "cell_type": "code",
   "execution_count": 82,
   "id": "8fe9323c",
   "metadata": {},
   "outputs": [],
   "source": [
    "# insert points into the quad tree\n",
    "for i in points:\n",
    "    quad.insert(i)"
   ]
  },
  {
   "cell_type": "code",
   "execution_count": 83,
   "id": "4ad8fcf1",
   "metadata": {},
   "outputs": [
    {
     "data": {
      "image/png": "[encoded data removed]",
      "text/plain": [
       "<Figure size 432x288 with 1 Axes>"
      ]
     },
     "metadata": {
      "needs_background": "light"
     },
     "output_type": "display_data"
    }
   ],
   "source": [
    "def pp():\n",
    "    plt.scatter([p.x for p in points], [p.y for p in points])\n",
    "pp()\n",
    "quad.show(show_entire=False)\n",
    "plt.show()"
   ]
  },
  {
   "cell_type": "code",
   "execution_count": null,
   "id": "0d41bdd0",
   "metadata": {},
   "outputs": [],
   "source": []
  },
  {
   "cell_type": "code",
   "execution_count": 85,
   "id": "abb755cc",
   "metadata": {},
   "outputs": [
    {
     "data": {
      "image/png": "[encoded data removed]",
      "text/plain": [
       "<Figure size 432x288 with 1 Axes>"
      ]
     },
     "metadata": {
      "needs_background": "light"
     },
     "output_type": "display_data"
    }
   ],
   "source": [
    "pp()\n",
    "com = quad.quads[3].center_of_mass()\n",
    "com_mass = quad.quads[3].mass\n",
    "plt.scatter(com[0],com[1],color='black',s=100)\n",
    "quad.show_from_point(points[0])"
   ]
  },
  {
   "cell_type": "code",
   "execution_count": 105,
   "id": "038aec3f",
   "metadata": {},
   "outputs": [
    {
     "name": "stdout",
     "output_type": "stream",
     "text": [
      "[<astrojigs.Point object at 0x0000017DA538ACD0>]\n",
      "<astrojigs.Point object at 0x0000017DA538ACD0>\n"
     ]
    },
    {
     "data": {
      "image/png": "[encoded data removed]",
      "text/plain": [
       "<Figure size 432x288 with 1 Axes>"
      ]
     },
     "metadata": {
      "needs_background": "light"
     },
     "output_type": "display_data"
    }
   ],
   "source": [
    "import astrojigs\n",
    "# Create points:\n",
    "points = [astrojigs.Point(np.random.randint(0,20),np.random.randint(0,20)) for i in range(100)]\n",
    "\n",
    "quad = astrojigs.Quadtree(boundary=boundary,G=1,theta_=0.7)\n",
    "\n",
    "# insert points into the quad tree\n",
    "for i in points:\n",
    "    quad.insert(i)\n",
    "poi = points[1]\n",
    "\n",
    "\n",
    "def pp():\n",
    "    plt.scatter([p.x for p in points], [p.y for p in points])\n",
    "    \n",
    "\n",
    "# plot the quadtree like in barnes hut algo\n",
    "plt.scatter(poi.x,poi.y,c='black',s=100)\n",
    "quad.show_from_point(poi,show_mass=True)\n",
    "pp()"
   ]
  },
  {
   "cell_type": "code",
   "execution_count": null,
   "id": "b4d2f641",
   "metadata": {},
   "outputs": [],
   "source": []
  },
  {
   "cell_type": "markdown",
   "id": "9f3eb2bf",
   "metadata": {},
   "source": [
    "### Points\n",
    "1. Application of Barnes-Hut\n",
    "2. Why it is efficient\n",
    "3. "
   ]
  },
  {
   "cell_type": "code",
   "execution_count": null,
   "id": "5b6d158d",
   "metadata": {},
   "outputs": [],
   "source": [
    "theta = 1\n",
    "nlogn\n",
    "n^2"
   ]
  },
  {
   "cell_type": "code",
   "execution_count": null,
   "id": "eb61acc8",
   "metadata": {},
   "outputs": [],
   "source": []
  }
 ],
 "metadata": {
  "kernelspec": {
   "display_name": "Python 3",
   "language": "python",
   "name": "python3"
  },
  "language_info": {
   "codemirror_mode": {
    "name": "ipython",
    "version": 3
   },
   "file_extension": ".py",
   "mimetype": "text/x-python",
   "name": "python",
   "nbconvert_exporter": "python",
   "pygments_lexer": "ipython3",
   "version": "3.8.0"
  }
 },
 "nbformat": 4,
 "nbformat_minor": 5
}
