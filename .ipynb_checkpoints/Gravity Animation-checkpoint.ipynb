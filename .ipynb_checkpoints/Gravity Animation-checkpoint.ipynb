{
 "cells": [
  {
   "cell_type": "markdown",
   "metadata": {},
   "source": [
    "# Gravity Simulation:\n",
    "\n",
    "Importing the essentials:"
   ]
  },
  {
   "cell_type": "code",
   "execution_count": 7,
   "metadata": {},
   "outputs": [],
   "source": [
    "import numpy as np\n",
    "import matplotlib.pyplot as plt\n",
    "%matplotlib inline\n",
    "from IPython.display import clear_output\n",
    "import cv2\n",
    "import os"
   ]
  },
  {
   "cell_type": "markdown",
   "metadata": {},
   "source": [
    "## Function to save images and create a video out of them."
   ]
  },
  {
   "cell_type": "code",
   "execution_count": 49,
   "metadata": {},
   "outputs": [
    {
     "name": "stdout",
     "output_type": "stream",
     "text": [
      "Video starting to process\n",
      "['0.png', '1.png', '2.png', '3.png', '4.png', '5.png', '6.png', '7.png', '8.png', '9.png', '10.png', '11.png', '12.png', '13.png', '14.png', '15.png', '16.png', '17.png', '18.png', '19.png', '20.png', '21.png', '22.png', '23.png', '24.png', '25.png', '26.png', '27.png', '28.png', '29.png', '30.png', '31.png', '32.png', '33.png', '34.png', '35.png', '36.png', '37.png', '38.png', '39.png', '40.png', '41.png', '42.png', '43.png', '44.png', '45.png', '46.png', '47.png', '48.png', '49.png', '50.png', '51.png', '52.png', '53.png', '54.png', '55.png', '56.png', '57.png', '58.png', '59.png', '60.png', '61.png', '62.png', '63.png', '64.png', '65.png', '66.png', '67.png', '68.png', '69.png', '70.png', '71.png', '72.png', '73.png', '74.png', '75.png', '76.png', '77.png', '78.png', '79.png', '80.png', '81.png', '82.png', '83.png', '84.png', '85.png', '86.png', '87.png', '88.png', '89.png', '90.png', '91.png', '92.png', '93.png', '94.png', '95.png', '96.png', '97.png', '98.png', '99.png', '100.png', '101.png', '102.png', '103.png', '104.png', '105.png', '106.png', '107.png', '108.png', '109.png', '110.png', '111.png', '112.png', '113.png', '114.png', '115.png', '116.png', '117.png', '118.png', '119.png', '120.png', '121.png', '122.png', '123.png', '124.png', '125.png', '126.png', '127.png', '128.png', '129.png', '130.png', '131.png', '132.png', '133.png', '134.png', '135.png', '136.png', '137.png', '138.png', '139.png', '140.png', '141.png', '142.png', '143.png', '144.png', '145.png', '146.png', '147.png', '148.png', '149.png', '150.png', '151.png', '152.png', '153.png', '154.png', '155.png', '156.png', '157.png', '158.png']\n",
      "(200, 300, 3)\n",
      "Video is processing...\n",
      "Video Processed\n",
      "Saved in as 'myfirst_galaxy_sim.mp4'.\n"
     ]
    }
   ],
   "source": [
    "save_to_video(video_name='myfirst_galaxy_sim.mp4',image_folder=\"C:/Users/astro/Documents/GitHub/Orbital-simulations/animation_dump/\",fps=30)"
   ]
  },
  {
   "cell_type": "code",
   "execution_count": 47,
   "metadata": {},
   "outputs": [],
   "source": [
    "# Use this function after the images are saved to a particular folder.\n",
    "\n",
    "# Always use numbers to name the image files, no alphabets should be there in the names.\n",
    "def save_to_video(video_name:'str',image_folder='folder_path_where_your_images_saved', fps=30):\n",
    "    print('Video starting to process')\n",
    "    # gather the names of the images in the folder:\n",
    "    images = [img for img in os.listdir(image_folder) if img.endswith('.png')]\n",
    "    \n",
    "    # sort the images number wise.\n",
    "    images = sorted(images, key=lambda x: int(os.path.splitext(x)[0]))\n",
    "    print(images)\n",
    "    #if you have used alphabets in the order 'image_01.png'\n",
    "    # Use:\n",
    "    #images = sorted(images, key=lambda x: int(x.splitext(x.split('_')[-1])[0])) check the below rough work.\n",
    "    \n",
    "    # Convert any image into array and check the dimensions of data type:\n",
    "    frame = cv2.imread(os.path.join(image_folder, images[0]))\n",
    "    print(frame.shape)\n",
    "    height, width, layers = frame.shape #(height, width, color channels)\n",
    "    \n",
    "    # Video codec, etc settings ('DIVX best for windows' source:https://docs.opencv.org/master/dd/d43/tutorial_py_video_display.html)\n",
    "    fourcc = cv2.VideoWriter_fourcc(*'mp4v')\n",
    "    '''**Note**: This fourcc will work for both Mac and Windows users. '''\n",
    "    \n",
    "    # Create the video object from cv2 with appropriate arguments:\n",
    "    video = cv2.VideoWriter(video_name, fourcc, fps, (width,height))\n",
    "    print('Video is processing...')\n",
    "    # Add image from the images\n",
    "    for image in images:\n",
    "        # Join the name of the image to full path directory and convert the image into array and add it to the video file.\n",
    "        video.write(cv2.imread(os.path.join(image_folder, image)))\n",
    "    \n",
    "    # Destroying cv2 windows (safety protocol)\n",
    "    cv2.destroyAllWindows()\n",
    "    print(f\"Video Processed\\nSaved in as '{video_name}'.\")\n",
    "    #Upload the video at desired path:\n",
    "    video.release()"
   ]
  },
  {
   "cell_type": "markdown",
   "metadata": {},
   "source": [
    "# Main function:"
   ]
  },
  {
   "cell_type": "code",
   "execution_count": 8,
   "metadata": {},
   "outputs": [],
   "source": [
    "#Main function :\n",
    "# X0 -> X1\n",
    "# @vectorize(['float32(float32, float32, float32, float32, float32, float32)'], target='cuda')\n",
    "def step(mass:'arr', x0:'arr',y0:'arr',vx0:'arr',vy0: 'arr',dt=0.1, G = 1):\n",
    "    \n",
    "    x1 = x0 + vx0*dt\n",
    "    y1 = y0 +vy0*dt\n",
    "    \n",
    "    vx1 = []\n",
    "    vy1 = []\n",
    "    #Loop over planets to find the distance:\n",
    "    for i in range(len(x1)):\n",
    "        x1self = x1[i]\n",
    "        y1self = y1[i]\n",
    "        ax = 0\n",
    "        ay = 0\n",
    "        for j in range(len(x0)):\n",
    "            if i == j:\n",
    "                continue\n",
    "            x_dist = x1[j] - x1self\n",
    "            y_dist = y1[j] - y1self\n",
    "            Rsq = x_dist**2 + y_dist**2\n",
    "\n",
    "            # Contribution from the jth mass:\n",
    "            a = G*mass[j]/Rsq\n",
    "            ax += a * x_dist/np.sqrt(Rsq)\n",
    "            ay += a * y_dist/np.sqrt(Rsq)\n",
    "        vx1.append(vx0[i] + ax*dt)\n",
    "        vy1.append(vy0[i] + ay*dt)\n",
    "        \n",
    "    return x1,y1,np.array(vx1),np.array(vy1)"
   ]
  },
  {
   "cell_type": "markdown",
   "metadata": {},
   "source": [
    "#### Description( of *above function*):\n",
    "\n",
    "The `step()` function will take the \"*initial positions/previous positions*\" of the bodies as inputs and give their respective \"*present positions*\". This is done in the following way:\n",
    "1) The function `step()` takes:\n",
    "- `mass` (*masses of all the bodies in one array*)\n",
    "- `x0` (*x position of all the bodies in one array*)\n",
    "- `y0` (*y position of all the bodies in one array*)\n",
    "- `vx0` (*x component of velocties for all the bodies, also in an array*)\n",
    "- `vy0` (*y component of velocties for all the bodies, also in an array*)\n",
    "- `dt` (*component of time*)\n",
    "- `G` (*Gravitational Constant (for visualization purposes <u>G=1</u>*)\n",
    "\n",
    "2) Find the latest x and y positions, denoted as x1, y1:\n",
    "- This is done by using the kinematic equation: $x = x_0 + v_{x_0}t$ <br> $x_0 = $ initial x_position (= `x0`). <br>$v_{x_0}$ = initial x component of velocity (= `vx0`) <br> Similarly for *y1*. <br> We proceed to make **two empty lists** for \"Velocities\" that we shall update within the loop.\n",
    "\n",
    "3) We make a loop to calculate the acceleration and update the velocities. This process loops over the number of bodies and finding their acceleration using <br>the Newton's Gravitation formula: $ F = ma = \\frac{G*M*m}{R^2}$. <br> After this, we find the component of acceleration $a_x, a_y$ .<br> Then we append (*add*) $v_{x_1} = v_{x_0} + a_x*dt$ to the `vx1 =[]` list (similarly for vy1)."
   ]
  },
  {
   "cell_type": "markdown",
   "metadata": {},
   "source": [
    "### scaling points:\n",
    "The next function is to scale the points, according to their mass."
   ]
  },
  {
   "cell_type": "code",
   "execution_count": 9,
   "metadata": {},
   "outputs": [],
   "source": [
    "# Function to scale masses for their sizes\n",
    "def scale_the_array(arr, min_=7, max_=300):\n",
    "    l = []\n",
    "    for element in arr:\n",
    "        if arr.max() != arr.min():\n",
    "            scaled_element = ((element - arr.min())/(arr.max()-arr.min()))*(max_-min_) + min_\n",
    "            l.append(scaled_element)\n",
    "        else:\n",
    "            # Default size\n",
    "            l = [20, 20]\n",
    "            \n",
    "    return np.array(l)"
   ]
  },
  {
   "cell_type": "markdown",
   "metadata": {},
   "source": [
    "## First simulation:\n",
    "1 star and two planets:"
   ]
  },
  {
   "cell_type": "code",
   "execution_count": 1,
   "metadata": {
    "scrolled": false
   },
   "outputs": [
    {
     "ename": "NameError",
     "evalue": "name 'np' is not defined",
     "output_type": "error",
     "traceback": [
      "\u001b[1;31m---------------------------------------------------------------------------\u001b[0m",
      "\u001b[1;31mNameError\u001b[0m                                 Traceback (most recent call last)",
      "\u001b[1;32m<ipython-input-1-56a620966a05>\u001b[0m in \u001b[0;36m<module>\u001b[1;34m\u001b[0m\n\u001b[0;32m      1\u001b[0m \u001b[1;31m# masses\u001b[0m\u001b[1;33m\u001b[0m\u001b[1;33m\u001b[0m\u001b[1;33m\u001b[0m\u001b[0m\n\u001b[1;32m----> 2\u001b[1;33m \u001b[0mmasses\u001b[0m \u001b[1;33m=\u001b[0m \u001b[0mnp\u001b[0m\u001b[1;33m.\u001b[0m\u001b[0marray\u001b[0m\u001b[1;33m(\u001b[0m\u001b[1;33m[\u001b[0m\u001b[1;36m100000\u001b[0m\u001b[1;33m,\u001b[0m \u001b[1;36m950\u001b[0m\u001b[1;33m,\u001b[0m \u001b[1;36m500\u001b[0m\u001b[1;33m]\u001b[0m\u001b[1;33m)\u001b[0m\u001b[1;33m\u001b[0m\u001b[1;33m\u001b[0m\u001b[0m\n\u001b[0m\u001b[0;32m      3\u001b[0m \u001b[1;33m\u001b[0m\u001b[0m\n\u001b[0;32m      4\u001b[0m \u001b[1;31m# Initial x positions\u001b[0m\u001b[1;33m\u001b[0m\u001b[1;33m\u001b[0m\u001b[1;33m\u001b[0m\u001b[0m\n\u001b[0;32m      5\u001b[0m \u001b[0mx0\u001b[0m \u001b[1;33m=\u001b[0m \u001b[0mnp\u001b[0m\u001b[1;33m.\u001b[0m\u001b[0marray\u001b[0m\u001b[1;33m(\u001b[0m\u001b[1;33m[\u001b[0m\u001b[1;36m0\u001b[0m\u001b[1;33m,\u001b[0m\u001b[1;36m72\u001b[0m\u001b[1;33m,\u001b[0m \u001b[1;36m200\u001b[0m\u001b[1;33m]\u001b[0m\u001b[1;33m)\u001b[0m\u001b[1;33m\u001b[0m\u001b[1;33m\u001b[0m\u001b[0m\n",
      "\u001b[1;31mNameError\u001b[0m: name 'np' is not defined"
     ]
    }
   ],
   "source": [
    "# masses\n",
    "masses = np.array([100000, 950, 500])\n",
    "\n",
    "# Initial x positions\n",
    "x0 = np.array([0,72, 200])\n",
    "# Initial y positions\n",
    "y0 = np.array([0, 0, 0])\n",
    "# Initial  \n",
    "vx0 = np.array([0, 0, -5])\n",
    "vy0 = np.array([0, -30, 12])\n",
    "\n",
    "# Calling the function to scale masses to determine its size.\n",
    "scaled_masses = scale_the_array(masses) \n",
    "\n",
    "fig = plt.figure()\n",
    "for time in range(3000):\n",
    "    x1,y1,vx1,vy1 = step(masses, x0, y0, vx0, vy0, dt=0.05)\n",
    "    plt.scatter(x1[0],y1[0],c='y', s= scaled_masses[0])\n",
    "    plt.scatter(x1[1],y1[1], c='g', s= scaled_masses[1])\n",
    "    plt.scatter(x1[2], y1[2], c='c', s = scaled_masses[2])\n",
    "    plt.xlim(-500, 500)\n",
    "    plt.ylim(-500, 500)\n",
    "    # take a picture\n",
    "    #plt.savefig(f\"../IAPT Course Work/Animations/{time+1}.png\")\n",
    "    plt.show()\n",
    "    print(f\"frame: {time}/300\")    \n",
    "    clear_output(wait=True)\n",
    "    x0 = x1\n",
    "    y0 = y1\n",
    "    vx0 = vx1\n",
    "    vy0 = vy1\n"
   ]
  },
  {
   "cell_type": "code",
   "execution_count": 18,
   "metadata": {},
   "outputs": [
    {
     "name": "stdout",
     "output_type": "stream",
     "text": [
      "Video starting to process\n",
      "(288, 432, 3)\n",
      "Video is processing...\n",
      "Video Processes\n",
      "Save in/as '2 planets and one star.mp4'.\n"
     ]
    }
   ],
   "source": [
    "save_to_video(video_name=\"2 planets and one star.mp4\")"
   ]
  },
  {
   "cell_type": "markdown",
   "metadata": {},
   "source": [
    "\n",
    "\n",
    "[click here](https://stats.stackexchange.com/questions/281162/scale-a-number-between-a-range/281164) for reading about scaling a number between a range."
   ]
  },
  {
   "cell_type": "markdown",
   "metadata": {},
   "source": [
    "In this code &#x2935;, there is a loop to scatter plot all bodies."
   ]
  },
  {
   "cell_type": "markdown",
   "metadata": {},
   "source": [
    "## Simulation 2:\n",
    "1 star, 3 planets:\n",
    "\n",
    "<u>Note</u>: The lag in the loop will appear more with more bodies, I tried to make a video function to smoothen the animation."
   ]
  },
  {
   "cell_type": "code",
   "execution_count": 12,
   "metadata": {},
   "outputs": [
    {
     "data": {
      "image/png": "[encoded data removed]",
      "text/plain": [
       "<Figure size 432x288 with 1 Axes>"
      ]
     },
     "metadata": {
      "needs_background": "light"
     },
     "output_type": "display_data"
    },
    {
     "name": "stdout",
     "output_type": "stream",
     "text": [
      "frame: 99/100\n"
     ]
    }
   ],
   "source": [
    "max_time = 100\n",
    "masses = np.array([100000, 150, 300, 200])\n",
    "x0 = np.array([-20, 72, 200, 312])\n",
    "y0 = np.array([0, 0, 0, 0])\n",
    "vx0 = np.array([0, 0, -5, -1])\n",
    "vy0 = np.array([0, -30, 12, 15])\n",
    " \n",
    "scaled_masses = scale_the_array(masses)\n",
    "\n",
    "for time in range(max_time):\n",
    "    x1,y1,vx1,vy1 = step(masses, x0, y0, vx0, vy0, dt=0.5)\n",
    "    for i in range(len(masses)):\n",
    "        plt.scatter(x1[i],y1[i], s = scaled_masses[i], c = 'r' if scaled_masses[i]==scaled_masses.max() else None)\n",
    "    plt.xlim(-500, 500)\n",
    "    plt.ylim(-500, 500)\n",
    "    #plt.savefig(f\"../images for_animations/{time}.png\")\n",
    "    plt.show()\n",
    "    print(f\"frame: {time}/{max_time}\")\n",
    "    clear_output(wait=True)\n",
    "    x0 = x1\n",
    "    y0 = y1\n",
    "    vx0 = vx1\n",
    "    vy0 = vy1"
   ]
  },
  {
   "cell_type": "code",
   "execution_count": 14,
   "metadata": {},
   "outputs": [
    {
     "name": "stdout",
     "output_type": "stream",
     "text": [
      "Video starting to process\n",
      "(288, 432, 3)\n",
      "Video is processing...\n",
      "Video Processes\n",
      "Save in/as '1_star_3_planets.mp4'.\n"
     ]
    }
   ],
   "source": [
    "save_to_video('1_star_3_planets.mp4')"
   ]
  },
  {
   "cell_type": "markdown",
   "metadata": {},
   "source": [
    "# Function: randomly generate stars:\n",
    "\n",
    "This function takes the number of celestial bodies as input "
   ]
  },
  {
   "cell_type": "code",
   "execution_count": 4,
   "metadata": {},
   "outputs": [
    {
     "name": "stderr",
     "output_type": "stream",
     "text": [
      "c:\\users\\astro\\appdata\\local\\programs\\python\\python38\\lib\\site-packages\\numpy\\_distributor_init.py:30: UserWarning: loaded more than 1 DLL from .libs:\n",
      "c:\\users\\astro\\appdata\\local\\programs\\python\\python38\\lib\\site-packages\\numpy\\.libs\\libopenblas.PYQHXLVVQ7VESDPUVUADXEVJOBGHJPAY.gfortran-win_amd64.dll\n",
      "c:\\users\\astro\\appdata\\local\\programs\\python\\python38\\lib\\site-packages\\numpy\\.libs\\libopenblas.WCDJNK7YVMPZQ2ME2ZZHJJRJ3JIKNDB7.gfortran-win_amd64.dll\n",
      "  warnings.warn(\"loaded more than 1 DLL from .libs:\"\n"
     ]
    }
   ],
   "source": [
    "import numpy as np\n",
    "import matplotlib.pyplot as plt"
   ]
  },
  {
   "cell_type": "code",
   "execution_count": 10,
   "metadata": {},
   "outputs": [],
   "source": [
    "def random_stars(num_bodies = 40, max_mass = 100000, v_max= 100, max_time = 300):\n",
    "    #frame:\n",
    "    y_limit = (-500,500)\n",
    "    x_limit = (-500, 500)\n",
    "    \n",
    "    masses = np.random.randint(30, max_mass,num_bodies)\n",
    "    x0 = np.random.randint(x_limit[0], x_limit[1], num_bodies)\n",
    "    y0 = np.random.randint(y_limit[0], y_limit[1], num_bodies)\n",
    "    \n",
    "    vx0 = np.random.randint(-v_max,v_max,num_bodies)\n",
    "    vy0 = np.random.randint(-v_max, v_max, num_bodies)\n",
    "    print(vx0)\n",
    "    \n",
    "    for time in range(max_time):\n",
    "        x1,y1,vx1,vy1 = step(masses, x0, y0, vx0, vy0, dt=0.5)\n",
    "        for i in range(num_bodies):\n",
    "            plt.scatter(x1[i],y1[i])\n",
    "        plt.xlim(x_limit[0], x_limit[1])\n",
    "        plt.ylim(y_limit[0], y_limit[1])\n",
    "        plt.show()\n",
    "        clear_output(wait=True)\n",
    "        x0 = x1\n",
    "        y0 = y1\n",
    "        vx0 = vx1\n",
    "        vy0 = vy1"
   ]
  },
  {
   "cell_type": "code",
   "execution_count": 13,
   "metadata": {},
   "outputs": [
    {
     "ename": "KeyboardInterrupt",
     "evalue": "",
     "output_type": "error",
     "traceback": [
      "\u001b[1;31m---------------------------------------------------------------------------\u001b[0m",
      "\u001b[1;31mKeyboardInterrupt\u001b[0m                         Traceback (most recent call last)",
      "\u001b[1;32m<ipython-input-13-1ea2a60b0eb8>\u001b[0m in \u001b[0;36m<module>\u001b[1;34m\u001b[0m\n\u001b[1;32m----> 1\u001b[1;33m \u001b[0mrandom_stars\u001b[0m\u001b[1;33m(\u001b[0m\u001b[0mnum_bodies\u001b[0m\u001b[1;33m=\u001b[0m\u001b[1;36m500\u001b[0m\u001b[1;33m)\u001b[0m\u001b[1;33m\u001b[0m\u001b[1;33m\u001b[0m\u001b[0m\n\u001b[0m",
      "\u001b[1;32m<ipython-input-10-8dd5ecf3f15c>\u001b[0m in \u001b[0;36mrandom_stars\u001b[1;34m(num_bodies, max_mass, v_max, max_time)\u001b[0m\n\u001b[0;32m     15\u001b[0m         \u001b[0mx1\u001b[0m\u001b[1;33m,\u001b[0m\u001b[0my1\u001b[0m\u001b[1;33m,\u001b[0m\u001b[0mvx1\u001b[0m\u001b[1;33m,\u001b[0m\u001b[0mvy1\u001b[0m \u001b[1;33m=\u001b[0m \u001b[0mstep\u001b[0m\u001b[1;33m(\u001b[0m\u001b[0mmasses\u001b[0m\u001b[1;33m,\u001b[0m \u001b[0mx0\u001b[0m\u001b[1;33m,\u001b[0m \u001b[0my0\u001b[0m\u001b[1;33m,\u001b[0m \u001b[0mvx0\u001b[0m\u001b[1;33m,\u001b[0m \u001b[0mvy0\u001b[0m\u001b[1;33m,\u001b[0m \u001b[0mdt\u001b[0m\u001b[1;33m=\u001b[0m\u001b[1;36m0.5\u001b[0m\u001b[1;33m)\u001b[0m\u001b[1;33m\u001b[0m\u001b[1;33m\u001b[0m\u001b[0m\n\u001b[0;32m     16\u001b[0m         \u001b[1;32mfor\u001b[0m \u001b[0mi\u001b[0m \u001b[1;32min\u001b[0m \u001b[0mrange\u001b[0m\u001b[1;33m(\u001b[0m\u001b[0mnum_bodies\u001b[0m\u001b[1;33m)\u001b[0m\u001b[1;33m:\u001b[0m\u001b[1;33m\u001b[0m\u001b[1;33m\u001b[0m\u001b[0m\n\u001b[1;32m---> 17\u001b[1;33m             \u001b[0mplt\u001b[0m\u001b[1;33m.\u001b[0m\u001b[0mscatter\u001b[0m\u001b[1;33m(\u001b[0m\u001b[0mx1\u001b[0m\u001b[1;33m[\u001b[0m\u001b[0mi\u001b[0m\u001b[1;33m]\u001b[0m\u001b[1;33m,\u001b[0m\u001b[0my1\u001b[0m\u001b[1;33m[\u001b[0m\u001b[0mi\u001b[0m\u001b[1;33m]\u001b[0m\u001b[1;33m)\u001b[0m\u001b[1;33m\u001b[0m\u001b[1;33m\u001b[0m\u001b[0m\n\u001b[0m\u001b[0;32m     18\u001b[0m         \u001b[0mplt\u001b[0m\u001b[1;33m.\u001b[0m\u001b[0mxlim\u001b[0m\u001b[1;33m(\u001b[0m\u001b[0mx_limit\u001b[0m\u001b[1;33m[\u001b[0m\u001b[1;36m0\u001b[0m\u001b[1;33m]\u001b[0m\u001b[1;33m,\u001b[0m \u001b[0mx_limit\u001b[0m\u001b[1;33m[\u001b[0m\u001b[1;36m1\u001b[0m\u001b[1;33m]\u001b[0m\u001b[1;33m)\u001b[0m\u001b[1;33m\u001b[0m\u001b[1;33m\u001b[0m\u001b[0m\n\u001b[0;32m     19\u001b[0m         \u001b[0mplt\u001b[0m\u001b[1;33m.\u001b[0m\u001b[0mylim\u001b[0m\u001b[1;33m(\u001b[0m\u001b[0my_limit\u001b[0m\u001b[1;33m[\u001b[0m\u001b[1;36m0\u001b[0m\u001b[1;33m]\u001b[0m\u001b[1;33m,\u001b[0m \u001b[0my_limit\u001b[0m\u001b[1;33m[\u001b[0m\u001b[1;36m1\u001b[0m\u001b[1;33m]\u001b[0m\u001b[1;33m)\u001b[0m\u001b[1;33m\u001b[0m\u001b[1;33m\u001b[0m\u001b[0m\n",
      "\u001b[1;32mc:\\users\\astro\\appdata\\local\\programs\\python\\python38\\lib\\site-packages\\matplotlib\\pyplot.py\u001b[0m in \u001b[0;36mscatter\u001b[1;34m(x, y, s, c, marker, cmap, norm, vmin, vmax, alpha, linewidths, verts, edgecolors, plotnonfinite, data, **kwargs)\u001b[0m\n\u001b[0;32m   2809\u001b[0m         \u001b[0mverts\u001b[0m\u001b[1;33m=\u001b[0m\u001b[0mcbook\u001b[0m\u001b[1;33m.\u001b[0m\u001b[0mdeprecation\u001b[0m\u001b[1;33m.\u001b[0m\u001b[0m_deprecated_parameter\u001b[0m\u001b[1;33m,\u001b[0m\u001b[1;33m\u001b[0m\u001b[1;33m\u001b[0m\u001b[0m\n\u001b[0;32m   2810\u001b[0m         edgecolors=None, *, plotnonfinite=False, data=None, **kwargs):\n\u001b[1;32m-> 2811\u001b[1;33m     __ret = gca().scatter(\n\u001b[0m\u001b[0;32m   2812\u001b[0m         \u001b[0mx\u001b[0m\u001b[1;33m,\u001b[0m \u001b[0my\u001b[0m\u001b[1;33m,\u001b[0m \u001b[0ms\u001b[0m\u001b[1;33m=\u001b[0m\u001b[0ms\u001b[0m\u001b[1;33m,\u001b[0m \u001b[0mc\u001b[0m\u001b[1;33m=\u001b[0m\u001b[0mc\u001b[0m\u001b[1;33m,\u001b[0m \u001b[0mmarker\u001b[0m\u001b[1;33m=\u001b[0m\u001b[0mmarker\u001b[0m\u001b[1;33m,\u001b[0m \u001b[0mcmap\u001b[0m\u001b[1;33m=\u001b[0m\u001b[0mcmap\u001b[0m\u001b[1;33m,\u001b[0m \u001b[0mnorm\u001b[0m\u001b[1;33m=\u001b[0m\u001b[0mnorm\u001b[0m\u001b[1;33m,\u001b[0m\u001b[1;33m\u001b[0m\u001b[1;33m\u001b[0m\u001b[0m\n\u001b[0;32m   2813\u001b[0m         \u001b[0mvmin\u001b[0m\u001b[1;33m=\u001b[0m\u001b[0mvmin\u001b[0m\u001b[1;33m,\u001b[0m \u001b[0mvmax\u001b[0m\u001b[1;33m=\u001b[0m\u001b[0mvmax\u001b[0m\u001b[1;33m,\u001b[0m \u001b[0malpha\u001b[0m\u001b[1;33m=\u001b[0m\u001b[0malpha\u001b[0m\u001b[1;33m,\u001b[0m \u001b[0mlinewidths\u001b[0m\u001b[1;33m=\u001b[0m\u001b[0mlinewidths\u001b[0m\u001b[1;33m,\u001b[0m\u001b[1;33m\u001b[0m\u001b[1;33m\u001b[0m\u001b[0m\n",
      "\u001b[1;32mc:\\users\\astro\\appdata\\local\\programs\\python\\python38\\lib\\site-packages\\matplotlib\\__init__.py\u001b[0m in \u001b[0;36minner\u001b[1;34m(ax, data, *args, **kwargs)\u001b[0m\n\u001b[0;32m   1563\u001b[0m     \u001b[1;32mdef\u001b[0m \u001b[0minner\u001b[0m\u001b[1;33m(\u001b[0m\u001b[0max\u001b[0m\u001b[1;33m,\u001b[0m \u001b[1;33m*\u001b[0m\u001b[0margs\u001b[0m\u001b[1;33m,\u001b[0m \u001b[0mdata\u001b[0m\u001b[1;33m=\u001b[0m\u001b[1;32mNone\u001b[0m\u001b[1;33m,\u001b[0m \u001b[1;33m**\u001b[0m\u001b[0mkwargs\u001b[0m\u001b[1;33m)\u001b[0m\u001b[1;33m:\u001b[0m\u001b[1;33m\u001b[0m\u001b[1;33m\u001b[0m\u001b[0m\n\u001b[0;32m   1564\u001b[0m         \u001b[1;32mif\u001b[0m \u001b[0mdata\u001b[0m \u001b[1;32mis\u001b[0m \u001b[1;32mNone\u001b[0m\u001b[1;33m:\u001b[0m\u001b[1;33m\u001b[0m\u001b[1;33m\u001b[0m\u001b[0m\n\u001b[1;32m-> 1565\u001b[1;33m             \u001b[1;32mreturn\u001b[0m \u001b[0mfunc\u001b[0m\u001b[1;33m(\u001b[0m\u001b[0max\u001b[0m\u001b[1;33m,\u001b[0m \u001b[1;33m*\u001b[0m\u001b[0mmap\u001b[0m\u001b[1;33m(\u001b[0m\u001b[0msanitize_sequence\u001b[0m\u001b[1;33m,\u001b[0m \u001b[0margs\u001b[0m\u001b[1;33m)\u001b[0m\u001b[1;33m,\u001b[0m \u001b[1;33m**\u001b[0m\u001b[0mkwargs\u001b[0m\u001b[1;33m)\u001b[0m\u001b[1;33m\u001b[0m\u001b[1;33m\u001b[0m\u001b[0m\n\u001b[0m\u001b[0;32m   1566\u001b[0m \u001b[1;33m\u001b[0m\u001b[0m\n\u001b[0;32m   1567\u001b[0m         \u001b[0mbound\u001b[0m \u001b[1;33m=\u001b[0m \u001b[0mnew_sig\u001b[0m\u001b[1;33m.\u001b[0m\u001b[0mbind\u001b[0m\u001b[1;33m(\u001b[0m\u001b[0max\u001b[0m\u001b[1;33m,\u001b[0m \u001b[1;33m*\u001b[0m\u001b[0margs\u001b[0m\u001b[1;33m,\u001b[0m \u001b[1;33m**\u001b[0m\u001b[0mkwargs\u001b[0m\u001b[1;33m)\u001b[0m\u001b[1;33m\u001b[0m\u001b[1;33m\u001b[0m\u001b[0m\n",
      "\u001b[1;32mc:\\users\\astro\\appdata\\local\\programs\\python\\python38\\lib\\site-packages\\matplotlib\\cbook\\deprecation.py\u001b[0m in \u001b[0;36mwrapper\u001b[1;34m(*args, **kwargs)\u001b[0m\n\u001b[0;32m    356\u001b[0m                 \u001b[1;34mf\"%(removal)s.  If any parameter follows {name!r}, they \"\u001b[0m\u001b[1;33m\u001b[0m\u001b[1;33m\u001b[0m\u001b[0m\n\u001b[0;32m    357\u001b[0m                 f\"should be pass as keyword, not positionally.\")\n\u001b[1;32m--> 358\u001b[1;33m         \u001b[1;32mreturn\u001b[0m \u001b[0mfunc\u001b[0m\u001b[1;33m(\u001b[0m\u001b[1;33m*\u001b[0m\u001b[0margs\u001b[0m\u001b[1;33m,\u001b[0m \u001b[1;33m**\u001b[0m\u001b[0mkwargs\u001b[0m\u001b[1;33m)\u001b[0m\u001b[1;33m\u001b[0m\u001b[1;33m\u001b[0m\u001b[0m\n\u001b[0m\u001b[0;32m    359\u001b[0m \u001b[1;33m\u001b[0m\u001b[0m\n\u001b[0;32m    360\u001b[0m     \u001b[1;32mreturn\u001b[0m \u001b[0mwrapper\u001b[0m\u001b[1;33m\u001b[0m\u001b[1;33m\u001b[0m\u001b[0m\n",
      "\u001b[1;32mc:\\users\\astro\\appdata\\local\\programs\\python\\python38\\lib\\site-packages\\matplotlib\\axes\\_axes.py\u001b[0m in \u001b[0;36mscatter\u001b[1;34m(self, x, y, s, c, marker, cmap, norm, vmin, vmax, alpha, linewidths, verts, edgecolors, plotnonfinite, **kwargs)\u001b[0m\n\u001b[0;32m   4421\u001b[0m             \u001b[0mmarker_obj\u001b[0m \u001b[1;33m=\u001b[0m \u001b[0mmarker\u001b[0m\u001b[1;33m\u001b[0m\u001b[1;33m\u001b[0m\u001b[0m\n\u001b[0;32m   4422\u001b[0m         \u001b[1;32melse\u001b[0m\u001b[1;33m:\u001b[0m\u001b[1;33m\u001b[0m\u001b[1;33m\u001b[0m\u001b[0m\n\u001b[1;32m-> 4423\u001b[1;33m             \u001b[0mmarker_obj\u001b[0m \u001b[1;33m=\u001b[0m \u001b[0mmmarkers\u001b[0m\u001b[1;33m.\u001b[0m\u001b[0mMarkerStyle\u001b[0m\u001b[1;33m(\u001b[0m\u001b[0mmarker\u001b[0m\u001b[1;33m)\u001b[0m\u001b[1;33m\u001b[0m\u001b[1;33m\u001b[0m\u001b[0m\n\u001b[0m\u001b[0;32m   4424\u001b[0m \u001b[1;33m\u001b[0m\u001b[0m\n\u001b[0;32m   4425\u001b[0m         path = marker_obj.get_path().transformed(\n",
      "\u001b[1;32mc:\\users\\astro\\appdata\\local\\programs\\python\\python38\\lib\\site-packages\\matplotlib\\markers.py\u001b[0m in \u001b[0;36m__init__\u001b[1;34m(self, marker, fillstyle)\u001b[0m\n\u001b[0;32m    223\u001b[0m         \u001b[0mself\u001b[0m\u001b[1;33m.\u001b[0m\u001b[0m_marker_function\u001b[0m \u001b[1;33m=\u001b[0m \u001b[1;32mNone\u001b[0m\u001b[1;33m\u001b[0m\u001b[1;33m\u001b[0m\u001b[0m\n\u001b[0;32m    224\u001b[0m         \u001b[0mself\u001b[0m\u001b[1;33m.\u001b[0m\u001b[0mset_fillstyle\u001b[0m\u001b[1;33m(\u001b[0m\u001b[0mfillstyle\u001b[0m\u001b[1;33m)\u001b[0m\u001b[1;33m\u001b[0m\u001b[1;33m\u001b[0m\u001b[0m\n\u001b[1;32m--> 225\u001b[1;33m         \u001b[0mself\u001b[0m\u001b[1;33m.\u001b[0m\u001b[0mset_marker\u001b[0m\u001b[1;33m(\u001b[0m\u001b[0mmarker\u001b[0m\u001b[1;33m)\u001b[0m\u001b[1;33m\u001b[0m\u001b[1;33m\u001b[0m\u001b[0m\n\u001b[0m\u001b[0;32m    226\u001b[0m \u001b[1;33m\u001b[0m\u001b[0m\n\u001b[0;32m    227\u001b[0m     \u001b[1;32mdef\u001b[0m \u001b[0m_recache\u001b[0m\u001b[1;33m(\u001b[0m\u001b[0mself\u001b[0m\u001b[1;33m)\u001b[0m\u001b[1;33m:\u001b[0m\u001b[1;33m\u001b[0m\u001b[1;33m\u001b[0m\u001b[0m\n",
      "\u001b[1;32mc:\\users\\astro\\appdata\\local\\programs\\python\\python38\\lib\\site-packages\\matplotlib\\markers.py\u001b[0m in \u001b[0;36mset_marker\u001b[1;34m(self, marker)\u001b[0m\n\u001b[0;32m    294\u001b[0m \u001b[1;33m\u001b[0m\u001b[0m\n\u001b[0;32m    295\u001b[0m         \u001b[0mself\u001b[0m\u001b[1;33m.\u001b[0m\u001b[0m_marker\u001b[0m \u001b[1;33m=\u001b[0m \u001b[0mmarker\u001b[0m\u001b[1;33m\u001b[0m\u001b[1;33m\u001b[0m\u001b[0m\n\u001b[1;32m--> 296\u001b[1;33m         \u001b[0mself\u001b[0m\u001b[1;33m.\u001b[0m\u001b[0m_recache\u001b[0m\u001b[1;33m(\u001b[0m\u001b[1;33m)\u001b[0m\u001b[1;33m\u001b[0m\u001b[1;33m\u001b[0m\u001b[0m\n\u001b[0m\u001b[0;32m    297\u001b[0m \u001b[1;33m\u001b[0m\u001b[0m\n\u001b[0;32m    298\u001b[0m     \u001b[1;32mdef\u001b[0m \u001b[0mget_path\u001b[0m\u001b[1;33m(\u001b[0m\u001b[0mself\u001b[0m\u001b[1;33m)\u001b[0m\u001b[1;33m:\u001b[0m\u001b[1;33m\u001b[0m\u001b[1;33m\u001b[0m\u001b[0m\n",
      "\u001b[1;32mc:\\users\\astro\\appdata\\local\\programs\\python\\python38\\lib\\site-packages\\matplotlib\\markers.py\u001b[0m in \u001b[0;36m_recache\u001b[1;34m(self)\u001b[0m\n\u001b[0;32m    236\u001b[0m         \u001b[0mself\u001b[0m\u001b[1;33m.\u001b[0m\u001b[0m_capstyle\u001b[0m \u001b[1;33m=\u001b[0m \u001b[1;34m'butt'\u001b[0m\u001b[1;33m\u001b[0m\u001b[1;33m\u001b[0m\u001b[0m\n\u001b[0;32m    237\u001b[0m         \u001b[0mself\u001b[0m\u001b[1;33m.\u001b[0m\u001b[0m_filled\u001b[0m \u001b[1;33m=\u001b[0m \u001b[1;32mTrue\u001b[0m\u001b[1;33m\u001b[0m\u001b[1;33m\u001b[0m\u001b[0m\n\u001b[1;32m--> 238\u001b[1;33m         \u001b[0mself\u001b[0m\u001b[1;33m.\u001b[0m\u001b[0m_marker_function\u001b[0m\u001b[1;33m(\u001b[0m\u001b[1;33m)\u001b[0m\u001b[1;33m\u001b[0m\u001b[1;33m\u001b[0m\u001b[0m\n\u001b[0m\u001b[0;32m    239\u001b[0m \u001b[1;33m\u001b[0m\u001b[0m\n\u001b[0;32m    240\u001b[0m     \u001b[1;32mdef\u001b[0m \u001b[0m__bool__\u001b[0m\u001b[1;33m(\u001b[0m\u001b[0mself\u001b[0m\u001b[1;33m)\u001b[0m\u001b[1;33m:\u001b[0m\u001b[1;33m\u001b[0m\u001b[1;33m\u001b[0m\u001b[0m\n",
      "\u001b[1;32mc:\\users\\astro\\appdata\\local\\programs\\python\\python38\\lib\\site-packages\\matplotlib\\markers.py\u001b[0m in \u001b[0;36m_set_circle\u001b[1;34m(self, reduction)\u001b[0m\n\u001b[0;32m    381\u001b[0m \u001b[1;33m\u001b[0m\u001b[0m\n\u001b[0;32m    382\u001b[0m     \u001b[1;32mdef\u001b[0m \u001b[0m_set_circle\u001b[0m\u001b[1;33m(\u001b[0m\u001b[0mself\u001b[0m\u001b[1;33m,\u001b[0m \u001b[0mreduction\u001b[0m\u001b[1;33m=\u001b[0m\u001b[1;36m1.0\u001b[0m\u001b[1;33m)\u001b[0m\u001b[1;33m:\u001b[0m\u001b[1;33m\u001b[0m\u001b[1;33m\u001b[0m\u001b[0m\n\u001b[1;32m--> 383\u001b[1;33m         \u001b[0mself\u001b[0m\u001b[1;33m.\u001b[0m\u001b[0m_transform\u001b[0m \u001b[1;33m=\u001b[0m \u001b[0mAffine2D\u001b[0m\u001b[1;33m(\u001b[0m\u001b[1;33m)\u001b[0m\u001b[1;33m.\u001b[0m\u001b[0mscale\u001b[0m\u001b[1;33m(\u001b[0m\u001b[1;36m0.5\u001b[0m \u001b[1;33m*\u001b[0m \u001b[0mreduction\u001b[0m\u001b[1;33m)\u001b[0m\u001b[1;33m\u001b[0m\u001b[1;33m\u001b[0m\u001b[0m\n\u001b[0m\u001b[0;32m    384\u001b[0m         \u001b[0mself\u001b[0m\u001b[1;33m.\u001b[0m\u001b[0m_snap_threshold\u001b[0m \u001b[1;33m=\u001b[0m \u001b[0mnp\u001b[0m\u001b[1;33m.\u001b[0m\u001b[0minf\u001b[0m\u001b[1;33m\u001b[0m\u001b[1;33m\u001b[0m\u001b[0m\n\u001b[0;32m    385\u001b[0m         \u001b[0mfs\u001b[0m \u001b[1;33m=\u001b[0m \u001b[0mself\u001b[0m\u001b[1;33m.\u001b[0m\u001b[0mget_fillstyle\u001b[0m\u001b[1;33m(\u001b[0m\u001b[1;33m)\u001b[0m\u001b[1;33m\u001b[0m\u001b[1;33m\u001b[0m\u001b[0m\n",
      "\u001b[1;32mc:\\users\\astro\\appdata\\local\\programs\\python\\python38\\lib\\site-packages\\matplotlib\\transforms.py\u001b[0m in \u001b[0;36mscale\u001b[1;34m(self, sx, sy)\u001b[0m\n\u001b[0;32m   1999\u001b[0m         scale_mtx = np.array(\n\u001b[0;32m   2000\u001b[0m             [[sx, 0.0, 0.0], [0.0, sy, 0.0], [0.0, 0.0, 1.0]], float)\n\u001b[1;32m-> 2001\u001b[1;33m         \u001b[0mself\u001b[0m\u001b[1;33m.\u001b[0m\u001b[0m_mtx\u001b[0m \u001b[1;33m=\u001b[0m \u001b[0mnp\u001b[0m\u001b[1;33m.\u001b[0m\u001b[0mdot\u001b[0m\u001b[1;33m(\u001b[0m\u001b[0mscale_mtx\u001b[0m\u001b[1;33m,\u001b[0m \u001b[0mself\u001b[0m\u001b[1;33m.\u001b[0m\u001b[0m_mtx\u001b[0m\u001b[1;33m)\u001b[0m\u001b[1;33m\u001b[0m\u001b[1;33m\u001b[0m\u001b[0m\n\u001b[0m\u001b[0;32m   2002\u001b[0m         \u001b[0mself\u001b[0m\u001b[1;33m.\u001b[0m\u001b[0minvalidate\u001b[0m\u001b[1;33m(\u001b[0m\u001b[1;33m)\u001b[0m\u001b[1;33m\u001b[0m\u001b[1;33m\u001b[0m\u001b[0m\n\u001b[0;32m   2003\u001b[0m         \u001b[1;32mreturn\u001b[0m \u001b[0mself\u001b[0m\u001b[1;33m\u001b[0m\u001b[1;33m\u001b[0m\u001b[0m\n",
      "\u001b[1;32m<__array_function__ internals>\u001b[0m in \u001b[0;36mdot\u001b[1;34m(*args, **kwargs)\u001b[0m\n",
      "\u001b[1;31mKeyboardInterrupt\u001b[0m: "
     ]
    },
    {
     "data": {
      "image/png": "[encoded data removed]",
      "text/plain": [
       "<Figure size 432x288 with 1 Axes>"
      ]
     },
     "metadata": {
      "needs_background": "light"
     },
     "output_type": "display_data"
    }
   ],
   "source": [
    "random_stars(num_bodies=500)"
   ]
  },
  {
   "cell_type": "markdown",
   "metadata": {},
   "source": [
    "# Realistic measured simulation:\n",
    "\n",
    "First we will write down all the constants and variables:"
   ]
  },
  {
   "cell_type": "code",
   "execution_count": 7,
   "metadata": {},
   "outputs": [],
   "source": [
    "\n",
    "# Gravitational Constant\n",
    "G = 6.67e-11\n",
    "\n",
    "#Bodies:\n",
    "celestial_bodies = ['Sun', 'mercury', 'venus', 'earth', 'mars', 'jupiter', 'saturn', 'uranus', 'neptune']\n",
    "\n",
    "# Masses: (in kg)\n",
    "masssun = 1.989e30\n",
    "massmercury = 3.285e23\n",
    "massvenus = 4.867e24\n",
    "massearth = 5.97e24\n",
    "massmars = 6.39e23\n",
    "massjupiter = 1.898e27\n",
    "masssaturn = 5.683e26\n",
    "massuranus = 8.681e25\n",
    "massneptune = 1.024e26\n",
    "\n",
    "# distance in Astronomical unit \n",
    "au = 1.496e+11 # meters\n",
    "mercury_dist = 0.39 * au\n",
    "venus_dist = 0.723 * au\n",
    "earth_dist = au\n",
    "mars_dist = 1.524 * au\n",
    "jupiter_dist = 5.203 * au\n",
    "saturn_dist = 9.539 * au\n",
    "uranus_dist = 19.18 * au\n",
    "neptune_dist = 30.06 * au\n",
    "\n",
    "#Velocities: (m/s)\n",
    "v_earth = 30*1000 # (30km/sec)\n",
    "v_mercury = 1.607 * v_earth\n",
    "v_venus = 1.174 * v_earth\n",
    "v_mars = 0.802 * v_earth\n",
    "v_jupiter = 0.434 * v_earth\n",
    "v_saturn = 0.323 * v_earth\n",
    "v_uranus = 0.228 * v_earth\n",
    "v_neptune = 0.182 * v_earth"
   ]
  },
  {
   "cell_type": "markdown",
   "metadata": {},
   "source": [
    "Creating arrays for the constants."
   ]
  },
  {
   "cell_type": "code",
   "execution_count": 8,
   "metadata": {},
   "outputs": [],
   "source": [
    "# info Arrays\n",
    "masses = np.array([masssun, massmercury, massvenus, massearth, massmars, massjupiter, masssaturn, massuranus, massneptune])\n",
    "x0 = np.array([0, -mercury_dist, venus_dist, earth_dist, mars_dist, jupiter_dist, saturn_dist, uranus_dist, neptune_dist])\n",
    "y0 = np.array([0, 0, 0, 0, 0, 0, 0, 0, 0])\n",
    "vx0 = np.array([0, 0, 0, 0, 0, 0, 0, 0, 0])\n",
    "vy0 = np.array([0, -v_mercury, v_venus, v_earth, v_mars, v_jupiter, v_saturn, v_uranus, v_neptune])"
   ]
  },
  {
   "cell_type": "markdown",
   "metadata": {},
   "source": [
    "<u>**Note**</u>:\n",
    "- `x0` represents the initial *x position* for all the celestial bodies.\n",
    "- `y0` represents the initial *y position* for all the celestial bodies.\n",
    "- `vx0` represents the initial *x velocity* for all the celestial bodies.\n",
    "- `vy0` represents the initial *y velocity* for all the celestial bodies."
   ]
  },
  {
   "cell_type": "markdown",
   "metadata": {},
   "source": [
    "**Scaling** the *mass array*: this step is for adjusting the size of the points (celestial bodies) in the graph.\n",
    "\n",
    "We use the function we defined earlier."
   ]
  },
  {
   "cell_type": "code",
   "execution_count": 9,
   "metadata": {},
   "outputs": [],
   "source": [
    "scaled_masses = scale_the_array(masses)"
   ]
  },
  {
   "cell_type": "markdown",
   "metadata": {},
   "source": [
    "The main loop to scatter plot the bodies in a time loop."
   ]
  },
  {
   "cell_type": "code",
   "execution_count": 10,
   "metadata": {},
   "outputs": [
    {
     "data": {
      "image/png": "[encoded data removed]",
      "text/plain": [
       "<Figure size 792x432 with 1 Axes>"
      ]
     },
     "metadata": {
      "needs_background": "light"
     },
     "output_type": "display_data"
    },
    {
     "name": "stdout",
     "output_type": "stream",
     "text": [
      "frame: 365/366\n",
      " Each frame is 1 days.\n"
     ]
    }
   ],
   "source": [
    "# loop constants\n",
    "fps = 30 #for video (default is 30)\n",
    "max_time = 366\n",
    "days_per_frame = 1\n",
    "\n",
    "#graph limit:\n",
    "limit = 2*au\n",
    "\n",
    "# Time loop\n",
    "for time in range(max_time):\n",
    "    fig, ax = plt.subplots(figsize=(11,6))\n",
    "    x1,y1,vx1,vy1 = step(masses, x0, y0, vx0, vy0, dt=days_per_frame*24*60*60,G=G)\n",
    "    \n",
    "    # Plot each body\n",
    "    for i in range(len(masses)):\n",
    "        ax.scatter(x1[i],y1[i], s = scaled_masses[i], c = 'r' if scaled_masses[i]==scaled_masses.max() else None)\n",
    "    for i in range(len(x1)):\n",
    "        ax.annotate(celestial_bodies[i], (x1[i], y1[i]),  annotation_clip=True, clip_on=True, xytext=(1 if x1[i]==x1[0] else -20 , 1 if y1[i]==y1[0] else -20), textcoords = 'offset points', arrowprops = dict(arrowstyle=\"wedge,tail_width=0.5\", alpha=0.1))\n",
    "        \n",
    "    #graph limit box:\n",
    "    plt.xlim(-limit, limit)\n",
    "    plt.ylim(-limit, limit)\n",
    "    \n",
    "    #Text:\n",
    "    plt.text(x=limit-au, y=limit-au,s=f\"1 frame = {days_per_frame} day(s).\\n Video FPS = 30 (standard)\\nFrame: {time+1}/{max_time}\\n 1 Second = {days_per_frame*fps} day(s).\")\n",
    "    \n",
    "    # Setting appropriate ticks (numbers for AU)\n",
    "    plt.xticks([x*au for x in range(-int(limit/au),int(limit/au))])\n",
    "    plt.xlabel(r'Astronomical Units ($10^{8}$ Km)')\n",
    "    plt.yticks([y*au for y in range(-int(limit/au),int(limit/au))])\n",
    "    plt.ylabel(r'Astronomical Units ($10^{8}$ Km)')\n",
    "    \n",
    "    #grid\n",
    "    plt.grid(True)\n",
    "    \n",
    "    # Save file (for video purposes)\n",
    "    #plt.savefig(f\"../IAPT Course Work/Animations/{time}.png\")\n",
    "    \n",
    "    plt.show()\n",
    "    print(f\"frame: {time}/{max_time}\\n Each frame is {days_per_frame} days.\")\n",
    "    clear_output(wait=True)\n",
    "    x0 = x1\n",
    "    y0 = y1\n",
    "    vx0 = vx1\n",
    "    vy0 = vy1"
   ]
  }
 ],
 "metadata": {
  "kernelspec": {
   "display_name": "Python 3",
   "language": "python",
   "name": "python3"
  },
  "language_info": {
   "codemirror_mode": {
    "name": "ipython",
    "version": 3
   },
   "file_extension": ".py",
   "mimetype": "text/x-python",
   "name": "python",
   "nbconvert_exporter": "python",
   "pygments_lexer": "ipython3",
   "version": "3.8.0"
  }
 },
 "nbformat": 4,
 "nbformat_minor": 4
}
