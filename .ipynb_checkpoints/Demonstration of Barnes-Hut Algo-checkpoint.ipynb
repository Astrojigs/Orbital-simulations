{
 "cells": [
  {
   "cell_type": "code",
   "execution_count": 3,
   "id": "8cffeb3a",
   "metadata": {},
   "outputs": [],
   "source": [
    "import astrojigs"
   ]
  },
  {
   "cell_type": "code",
   "execution_count": 4,
   "id": "984c69ce",
   "metadata": {},
   "outputs": [],
   "source": [
    "import numpy as np\n",
    "import matplotlib.pyplot as plt"
   ]
  },
  {
   "cell_type": "code",
   "execution_count": 5,
   "id": "cbd47c58",
   "metadata": {},
   "outputs": [],
   "source": [
    "boundary = astrojigs.Rectangle(x=10,y=10,w=20,h=20)"
   ]
  },
  {
   "cell_type": "code",
   "execution_count": null,
   "id": "64a075c3",
   "metadata": {},
   "outputs": [],
   "source": []
  },
  {
   "cell_type": "code",
   "execution_count": null,
   "id": "5c2e2ce6",
   "metadata": {},
   "outputs": [],
   "source": [
    "astrojigs.Quadtree()a"
   ]
  },
  {
   "cell_type": "code",
   "execution_count": null,
   "id": "89eaba4c",
   "metadata": {},
   "outputs": [],
   "source": []
  }
 ],
 "metadata": {
  "kernelspec": {
   "display_name": "Python 3",
   "language": "python",
   "name": "python3"
  },
  "language_info": {
   "codemirror_mode": {
    "name": "ipython",
    "version": 3
   },
   "file_extension": ".py",
   "mimetype": "text/x-python",
   "name": "python",
   "nbconvert_exporter": "python",
   "pygments_lexer": "ipython3",
   "version": "3.8.0"
  }
 },
 "nbformat": 4,
 "nbformat_minor": 5
}
