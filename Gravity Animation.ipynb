{
 "cells": [
  {
   "cell_type": "markdown",
   "metadata": {},
   "source": [
    "# Gravity Simulation:\n",
    "\n",
    "Importing the essentials:"
   ]
  },
  {
   "cell_type": "code",
   "execution_count": 1,
   "metadata": {},
   "outputs": [
    {
     "name": "stderr",
     "output_type": "stream",
     "text": [
      "c:\\users\\astro\\appdata\\local\\programs\\python\\python38\\lib\\site-packages\\numpy\\_distributor_init.py:30: UserWarning: loaded more than 1 DLL from .libs:\n",
      "c:\\users\\astro\\appdata\\local\\programs\\python\\python38\\lib\\site-packages\\numpy\\.libs\\libopenblas.PYQHXLVVQ7VESDPUVUADXEVJOBGHJPAY.gfortran-win_amd64.dll\n",
      "c:\\users\\astro\\appdata\\local\\programs\\python\\python38\\lib\\site-packages\\numpy\\.libs\\libopenblas.WCDJNK7YVMPZQ2ME2ZZHJJRJ3JIKNDB7.gfortran-win_amd64.dll\n",
      "  warnings.warn(\"loaded more than 1 DLL from .libs:\"\n"
     ]
    }
   ],
   "source": [
    "import numpy as np\n",
    "import matplotlib.pyplot as plt\n",
    "%matplotlib inline\n",
    "from IPython.display import clear_output\n",
    "import cv2\n",
    "import os"
   ]
  },
  {
   "cell_type": "markdown",
   "metadata": {},
   "source": [
    "## Function to save images and create a video out of them."
   ]
  },
  {
   "cell_type": "code",
   "execution_count": 2,
   "metadata": {},
   "outputs": [],
   "source": [
    "# Use this function after the images are saved to a particular folder.\n",
    "\n",
    "# Always use numbers to name the image files, no alphabets should be there in the names.\n",
    "def save_to_video(video_name:'str',image_folder='folder_path_where_your_images_saved', fps=30):\n",
    "    print('Video starting to process')\n",
    "    # gather the names of the images in the folder:\n",
    "    images = [img for img in os.listdir(image_folder) if img.endswith('.png')]\n",
    "    \n",
    "    # sort the images number wise.\n",
    "    images = sorted(images, key=lambda x: int(os.path.splitext(x)[0]))\n",
    "    #if you have used alphabets in the order 'image_01.png'\n",
    "    # Use:\n",
    "    #images = sorted(images, key=lambda x: int(x.splitext(x.split('_')[-1])[0])) check the below rough work.\n",
    "    \n",
    "    # Convert any image into array and check the dimensions of data type:\n",
    "    frame = cv2.imread(os.path.join(image_folder, images[0]))\n",
    "    print(frame.shape)\n",
    "    height, width, layers = frame.shape #(height, width, color channels)\n",
    "    \n",
    "    # Video codec, etc settings ('DIVX best for windows' source:https://docs.opencv.org/master/dd/d43/tutorial_py_video_display.html)\n",
    "    fourcc = cv2.VideoWriter_fourcc(*'DIVX')\n",
    "    '''**Note**: This fourcc will work for both Mac and Windows users. '''\n",
    "    \n",
    "    # Create the video object from cv2 with appropriate arguments:\n",
    "    video = cv2.VideoWriter(video_name, fourcc, fps, (width,height))\n",
    "    print('Video is processing...')\n",
    "    # Add image from the images\n",
    "    for image in images:\n",
    "        # Join the name of the image to full path directory and convert the image into array and add it to the video file.\n",
    "        video.write(cv2.imread(os.path.join(image_folder, image)))\n",
    "    \n",
    "    # Destroying cv2 windows (safety protocol)\n",
    "    cv2.destroyAllWindows()\n",
    "    print(f\"Video Processes\\nSave in/as '{video_name}'.\")\n",
    "    #Upload the video at desired path:\n",
    "    video.release()"
   ]
  },
  {
   "cell_type": "markdown",
   "metadata": {},
   "source": [
    "# Main function:"
   ]
  },
  {
   "cell_type": "code",
   "execution_count": 6,
   "metadata": {},
   "outputs": [],
   "source": [
    "#Main function :\n",
    "# X0 -> X1\n",
    "# @vectorize(['float32(float32, float32, float32, float32, float32, float32)'], target='cuda')\n",
    "def step(mass:'arr', x0:'arr',y0:'arr',vx0:'arr',vy0: 'arr',dt=0.1, G = 1):\n",
    "    \n",
    "    x1 = x0 + vx0*dt\n",
    "    y1 = y0 +vy0*dt\n",
    "    \n",
    "    vx1 = []\n",
    "    vy1 = []\n",
    "    #Loop over planets to find the distance:\n",
    "    for i in range(len(x1)):\n",
    "        x1self = x1[i]\n",
    "        y1self = y1[i]\n",
    "        ax = 0\n",
    "        ay = 0\n",
    "        for j in range(len(x0)):\n",
    "            if i == j:\n",
    "                continue\n",
    "            x_dist = x1[j] - x1self\n",
    "            y_dist = y1[j] - y1self\n",
    "            Rsq = x_dist**2 + y_dist**2\n",
    "\n",
    "            # Contribution from the jth mass:\n",
    "            a = G*mass[j]/Rsq\n",
    "            ax += a * x_dist/np.sqrt(Rsq)\n",
    "            ay += a * y_dist/np.sqrt(Rsq)\n",
    "        vx1.append(vx0[i] + ax*dt)\n",
    "        vy1.append(vy0[i] + ay*dt)\n",
    "        \n",
    "    return x1,y1,np.array(vx1),np.array(vy1)"
   ]
  },
  {
   "cell_type": "markdown",
   "metadata": {},
   "source": [
    "#### Description( of *above function*):\n",
    "\n",
    "The `step()` function will take the \"*initial positions/previous positions*\" of the bodies as inputs and give their respective \"*present positions*\". This is done in the following way:\n",
    "1) The function `step()` takes:\n",
    "- `mass` (*masses of all the bodies in one array*)\n",
    "- `x0` (*x position of all the bodies in one array*)\n",
    "- `y0` (*y position of all the bodies in one array*)\n",
    "- `vx0` (*x component of velocties for all the bodies, also in an array*)\n",
    "- `vy0` (*y component of velocties for all the bodies, also in an array*)\n",
    "- `dt` (*component of time*)\n",
    "- `G` (*Gravitational Constant (for visualization purposes <u>G=1</u>*)\n",
    "\n",
    "2) Find the latest x and y positions, denoted as x1, y1:\n",
    "- This is done by using the kinematic equation: $x = x_0 + v_{x_0}t$ <br> $x_0 = $ initial x_position (= `x0`). <br>$v_{x_0}$ = initial x component of velocity (= `vx0`) <br> Similarly for *y1*. <br> We proceed to make **two empty lists** for \"Velocities\" that we shall update within the loop.\n",
    "\n",
    "3) We make a loop to calculate the acceleration and update the velocities. This process loops over the number of bodies and finding their acceleration using <br>the Newton's Gravitation formula: $ F = ma = \\frac{G*M*m}{R^2}$. <br> After this, we find the component of acceleration $a_x, a_y$ .<br> Then we append (*add*) $v_{x_1} = v_{x_0} + a_x*dt$ to the `vx1 =[]` list (similarly for vy1)."
   ]
  },
  {
   "cell_type": "markdown",
   "metadata": {},
   "source": [
    "### scaling points:\n",
    "The next function is to scale the points, according to their mass."
   ]
  },
  {
   "cell_type": "code",
   "execution_count": 3,
   "metadata": {},
   "outputs": [],
   "source": [
    "# Function to scale masses for their sizes\n",
    "def scale_the_array(arr, min_=7, max_=300):\n",
    "    l = []\n",
    "    for element in arr:\n",
    "        if arr.max() != arr.min():\n",
    "            scaled_element = ((element - arr.min())/(arr.max()-arr.min()))*(max_-min_) + min_\n",
    "            l.append(scaled_element)\n",
    "        else:\n",
    "            # Default size\n",
    "            l = [20, 20]\n",
    "            \n",
    "    return np.array(l)"
   ]
  },
  {
   "cell_type": "markdown",
   "metadata": {},
   "source": [
    "## First simulation:\n",
    "1 star and two planets:"
   ]
  },
  {
   "cell_type": "code",
   "execution_count": 4,
   "metadata": {
    "scrolled": false
   },
   "outputs": [
    {
     "data": {
      "image/png": "[encoded data removed]",
      "text/plain": [
       "<Figure size 432x288 with 1 Axes>"
      ]
     },
     "metadata": {
      "needs_background": "light"
     },
     "output_type": "display_data"
    },
    {
     "name": "stdout",
     "output_type": "stream",
     "text": [
      "frame: 299/300\n"
     ]
    }
   ],
   "source": [
    "# masses\n",
    "masses = np.array([100000, 950, 500])\n",
    "\n",
    "# Initial x positions\n",
    "x0 = np.array([0,72, 200])\n",
    "# Initial y positions\n",
    "y0 = np.array([0, 0, 0])\n",
    "# Initial  \n",
    "vx0 = np.array([0, 0, -5])\n",
    "vy0 = np.array([0, -30, 12])\n",
    "\n",
    "# Calling the function to scale masses to determine its size.\n",
    "scaled_masses = scale_the_array(masses) \n",
    "\n",
    "fig = plt.figure()\n",
    "camera = Camera(fig)\n",
    "for time in range(300):\n",
    "    x1,y1,vx1,vy1 = step(masses, x0, y0, vx0, vy0, dt=0.5)\n",
    "    plt.scatter(x1[0],y1[0],c='y', s= scaled_masses[0])\n",
    "    plt.scatter(x1[1],y1[1], c='g', s= scaled_masses[1])\n",
    "    plt.scatter(x1[2], y1[2], c='c', s = scaled_masses[2])\n",
    "    plt.xlim(-500, 500)\n",
    "    plt.ylim(-500, 500)\n",
    "    # take a picture\n",
    "    camera.snap()\n",
    "    #plt.savefig(f\"../IAPT Course Work/Animations/{time+1}.png\")\n",
    "    plt.show()\n",
    "    print(f\"frame: {time}/300\")    \n",
    "    clear_output(wait=True)\n",
    "    x0 = x1\n",
    "    y0 = y1\n",
    "    vx0 = vx1\n",
    "    vy0 = vy1\n"
   ]
  },
  {
   "cell_type": "code",
   "execution_count": 18,
   "metadata": {},
   "outputs": [
    {
     "name": "stdout",
     "output_type": "stream",
     "text": [
      "Video starting to process\n",
      "(288, 432, 3)\n",
      "Video is processing...\n",
      "Video Processes\n",
      "Save in/as '2 planets and one star.mp4'.\n"
     ]
    }
   ],
   "source": [
    "save_to_video(video_name=\"2 planets and one star.mp4\")"
   ]
  },
  {
   "cell_type": "markdown",
   "metadata": {},
   "source": [
    "\n",
    "\n",
    "[click here](https://stats.stackexchange.com/questions/281162/scale-a-number-between-a-range/281164) for reading about scaling a number between a range."
   ]
  },
  {
   "cell_type": "markdown",
   "metadata": {},
   "source": [
    "In this code &#x2935;, there is a loop to scatter plot all bodies."
   ]
  },
  {
   "cell_type": "markdown",
   "metadata": {},
   "source": [
    "## Simulation 2:\n",
    "1 star, 3 planets:\n",
    "\n",
    "<u>Note</u>: The lag in the loop will appear more with more bodies, I tried to make a video function to smoothen the animation."
   ]
  },
  {
   "cell_type": "code",
   "execution_count": 12,
   "metadata": {},
   "outputs": [
    {
     "data": {
      "image/png": "[encoded data removed]",
      "text/plain": [
       "<Figure size 432x288 with 1 Axes>"
      ]
     },
     "metadata": {
      "needs_background": "light"
     },
     "output_type": "display_data"
    },
    {
     "name": "stdout",
     "output_type": "stream",
     "text": [
      "frame: 99/100\n"
     ]
    }
   ],
   "source": [
    "max_time = 100\n",
    "masses = np.array([100000, 150, 300, 200])\n",
    "x0 = np.array([-20, 72, 200, 312])\n",
    "y0 = np.array([0, 0, 0, 0])\n",
    "vx0 = np.array([0, 0, -5, -1])\n",
    "vy0 = np.array([0, -30, 12, 15])\n",
    " \n",
    "scaled_masses = scale_the_array(masses)\n",
    "\n",
    "for time in range(max_time):\n",
    "    x1,y1,vx1,vy1 = step(masses, x0, y0, vx0, vy0, dt=0.5)\n",
    "    for i in range(len(masses)):\n",
    "        plt.scatter(x1[i],y1[i], s = scaled_masses[i], c = 'r' if scaled_masses[i]==scaled_masses.max() else None)\n",
    "    plt.xlim(-500, 500)\n",
    "    plt.ylim(-500, 500)\n",
    "    #plt.savefig(f\"../images for_animations/{time}.png\")\n",
    "    plt.show()\n",
    "    print(f\"frame: {time}/{max_time}\")\n",
    "    clear_output(wait=True)\n",
    "    x0 = x1\n",
    "    y0 = y1\n",
    "    vx0 = vx1\n",
    "    vy0 = vy1"
   ]
  },
  {
   "cell_type": "code",
   "execution_count": 14,
   "metadata": {},
   "outputs": [
    {
     "name": "stdout",
     "output_type": "stream",
     "text": [
      "Video starting to process\n",
      "(288, 432, 3)\n",
      "Video is processing...\n",
      "Video Processes\n",
      "Save in/as '1_star_3_planets.mp4'.\n"
     ]
    }
   ],
   "source": [
    "save_to_video('1_star_3_planets.mp4')"
   ]
  },
  {
   "cell_type": "markdown",
   "metadata": {},
   "source": [
    "# Function: randomly generate stars:\n",
    "\n",
    "This function takes the number of celestial bodies as input "
   ]
  },
  {
   "cell_type": "code",
   "execution_count": 13,
   "metadata": {},
   "outputs": [],
   "source": [
    "def random_stars(num_bodies = 40, max_mass = 100000, v_max= 100, max_time = 300):\n",
    "    #frame:\n",
    "    y_limit = (-500,500)\n",
    "    x_limit = (-500, 500)\n",
    "    \n",
    "    masses = np.random.randint(30, max_mass,num_bodies)\n",
    "    x0 = np.random.randint(x_limit[0], x_limit[1], num_bodies)\n",
    "    y0 = np.random.randint(y_limit[0], y_limit[1], num_bodies)\n",
    "    \n",
    "    vx0 = np.random.randint(-v_max,v_max,num_bodies)\n",
    "    vy0 = np.random.randint(-v_max, v_max, num_bodies)\n",
    "    print(vx0)\n",
    "    \n",
    "    for time in range(max_time):\n",
    "        x1,y1,vx1,vy1 = step(masses, x0, y0, vx0, vy0, dt=0.5)\n",
    "        for i in range(num_bodies):\n",
    "            plt.scatter(x1[i],y1[i])\n",
    "        plt.xlim(x_limit[0], x_limit[1])\n",
    "        plt.ylim(y_limit[0], y_limit[1])\n",
    "        plt.show()\n",
    "        clear_output(wait=True)\n",
    "        x0 = x1\n",
    "        y0 = y1\n",
    "        vx0 = vx1\n",
    "        vy0 = vy1"
   ]
  },
  {
   "cell_type": "code",
   "execution_count": 14,
   "metadata": {},
   "outputs": [
    {
     "data": {
      "image/png": "[encoded data removed]",
      "text/plain": [
       "<Figure size 432x288 with 1 Axes>"
      ]
     },
     "metadata": {
      "needs_background": "light"
     },
     "output_type": "display_data"
    }
   ],
   "source": [
    "random_stars(num_bodies=30)"
   ]
  },
  {
   "cell_type": "markdown",
   "metadata": {},
   "source": [
    "# Realistic measured simulation:\n",
    "\n",
    "First we will write down all the constants and variables:"
   ]
  },
  {
   "cell_type": "code",
   "execution_count": 7,
   "metadata": {},
   "outputs": [],
   "source": [
    "\n",
    "# Gravitational Constant\n",
    "G = 6.67e-11\n",
    "\n",
    "#Bodies:\n",
    "celestial_bodies = ['Sun', 'mercury', 'venus', 'earth', 'mars', 'jupiter', 'saturn', 'uranus', 'neptune']\n",
    "\n",
    "# Masses: (in kg)\n",
    "masssun = 1.989e30\n",
    "massmercury = 3.285e23\n",
    "massvenus = 4.867e24\n",
    "massearth = 5.97e24\n",
    "massmars = 6.39e23\n",
    "massjupiter = 1.898e27\n",
    "masssaturn = 5.683e26\n",
    "massuranus = 8.681e25\n",
    "massneptune = 1.024e26\n",
    "\n",
    "# distance in Astronomical unit \n",
    "au = 1.496e+11 # meters\n",
    "mercury_dist = 0.39 * au\n",
    "venus_dist = 0.723 * au\n",
    "earth_dist = au\n",
    "mars_dist = 1.524 * au\n",
    "jupiter_dist = 5.203 * au\n",
    "saturn_dist = 9.539 * au\n",
    "uranus_dist = 19.18 * au\n",
    "neptune_dist = 30.06 * au\n",
    "\n",
    "#Velocities: (m/s)\n",
    "v_earth = 30*1000 # (30km/sec)\n",
    "v_mercury = 1.607 * v_earth\n",
    "v_venus = 1.174 * v_earth\n",
    "v_mars = 0.802 * v_earth\n",
    "v_jupiter = 0.434 * v_earth\n",
    "v_saturn = 0.323 * v_earth\n",
    "v_uranus = 0.228 * v_earth\n",
    "v_neptune = 0.182 * v_earth"
   ]
  },
  {
   "cell_type": "markdown",
   "metadata": {},
   "source": [
    "Creating arrays for the constants."
   ]
  },
  {
   "cell_type": "code",
   "execution_count": 8,
   "metadata": {},
   "outputs": [],
   "source": [
    "# info Arrays\n",
    "masses = np.array([masssun, massmercury, massvenus, massearth, massmars, massjupiter, masssaturn, massuranus, massneptune])\n",
    "x0 = np.array([0, -mercury_dist, venus_dist, earth_dist, mars_dist, jupiter_dist, saturn_dist, uranus_dist, neptune_dist])\n",
    "y0 = np.array([0, 0, 0, 0, 0, 0, 0, 0, 0])\n",
    "vx0 = np.array([0, 0, 0, 0, 0, 0, 0, 0, 0])\n",
    "vy0 = np.array([0, -v_mercury, v_venus, v_earth, v_mars, v_jupiter, v_saturn, v_uranus, v_neptune])"
   ]
  },
  {
   "cell_type": "markdown",
   "metadata": {},
   "source": [
    "<u>**Note**</u>:\n",
    "- `x0` represents the initial *x position* for all the celestial bodies.\n",
    "- `y0` represents the initial *y position* for all the celestial bodies.\n",
    "- `vx0` represents the initial *x velocity* for all the celestial bodies.\n",
    "- `vy0` represents the initial *y velocity* for all the celestial bodies."
   ]
  },
  {
   "cell_type": "markdown",
   "metadata": {},
   "source": [
    "**Scaling** the *mass array*: this step is for adjusting the size of the points (celestial bodies) in the graph.\n",
    "\n",
    "We use the function we defined earlier."
   ]
  },
  {
   "cell_type": "code",
   "execution_count": 9,
   "metadata": {},
   "outputs": [],
   "source": [
    "scaled_masses = scale_the_array(masses)"
   ]
  },
  {
   "cell_type": "markdown",
   "metadata": {},
   "source": [
    "The main loop to scatter plot the bodies in a time loop."
   ]
  },
  {
   "cell_type": "code",
   "execution_count": 10,
   "metadata": {},
   "outputs": [
    {
     "data": {
      "image/png": "[encoded data removed]",
      "text/plain": [
       "<Figure size 792x432 with 1 Axes>"
      ]
     },
     "metadata": {
      "needs_background": "light"
     },
     "output_type": "display_data"
    },
    {
     "name": "stdout",
     "output_type": "stream",
     "text": [
      "frame: 365/366\n",
      " Each frame is 1 days.\n"
     ]
    }
   ],
   "source": [
    "# loop constants\n",
    "fps = 30 #for video (default is 30)\n",
    "max_time = 366\n",
    "days_per_frame = 1\n",
    "\n",
    "#graph limit:\n",
    "limit = 2*au\n",
    "\n",
    "# Time loop\n",
    "for time in range(max_time):\n",
    "    fig, ax = plt.subplots(figsize=(11,6))\n",
    "    x1,y1,vx1,vy1 = step(masses, x0, y0, vx0, vy0, dt=days_per_frame*24*60*60,G=G)\n",
    "    \n",
    "    # Plot each body\n",
    "    for i in range(len(masses)):\n",
    "        ax.scatter(x1[i],y1[i], s = scaled_masses[i], c = 'r' if scaled_masses[i]==scaled_masses.max() else None)\n",
    "    for i in range(len(x1)):\n",
    "        ax.annotate(celestial_bodies[i], (x1[i], y1[i]),  annotation_clip=True, clip_on=True, xytext=(1 if x1[i]==x1[0] else -20 , 1 if y1[i]==y1[0] else -20), textcoords = 'offset points', arrowprops = dict(arrowstyle=\"wedge,tail_width=0.5\", alpha=0.1))\n",
    "        \n",
    "    #graph limit box:\n",
    "    plt.xlim(-limit, limit)\n",
    "    plt.ylim(-limit, limit)\n",
    "    \n",
    "    #Text:\n",
    "    plt.text(x=limit-au, y=limit-au,s=f\"1 frame = {days_per_frame} day(s).\\n Video FPS = 30 (standard)\\nFrame: {time+1}/{max_time}\\n 1 Second = {days_per_frame*fps} day(s).\")\n",
    "    \n",
    "    # Setting appropriate ticks (numbers for AU)\n",
    "    plt.xticks([x*au for x in range(-int(limit/au),int(limit/au))])\n",
    "    plt.xlabel(r'Astronomical Units ($10^{8}$ Km)')\n",
    "    plt.yticks([y*au for y in range(-int(limit/au),int(limit/au))])\n",
    "    plt.ylabel(r'Astronomical Units ($10^{8}$ Km)')\n",
    "    \n",
    "    #grid\n",
    "    plt.grid(True)\n",
    "    \n",
    "    # Save file (for video purposes)\n",
    "    #plt.savefig(f\"../IAPT Course Work/Animations/{time}.png\")\n",
    "    \n",
    "    plt.show()\n",
    "    print(f\"frame: {time}/{max_time}\\n Each frame is {days_per_frame} days.\")\n",
    "    clear_output(wait=True)\n",
    "    x0 = x1\n",
    "    y0 = y1\n",
    "    vx0 = vx1\n",
    "    vy0 = vy1"
   ]
  }
 ],
 "metadata": {
  "kernelspec": {
   "display_name": "Python 3",
   "language": "python",
   "name": "python3"
  },
  "language_info": {
   "codemirror_mode": {
    "name": "ipython",
    "version": 3
   },
   "file_extension": ".py",
   "mimetype": "text/x-python",
   "name": "python",
   "nbconvert_exporter": "python",
   "pygments_lexer": "ipython3",
   "version": "3.8.0"
  }
 },
 "nbformat": 4,
 "nbformat_minor": 4
}
