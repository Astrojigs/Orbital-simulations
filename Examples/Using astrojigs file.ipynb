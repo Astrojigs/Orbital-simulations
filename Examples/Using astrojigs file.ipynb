{
 "cells": [
  {
   "cell_type": "markdown",
   "id": "86a46433",
   "metadata": {},
   "source": [
    "### Importing libraries"
   ]
  },
  {
   "cell_type": "code",
   "execution_count": 1,
   "id": "664afd18",
   "metadata": {},
   "outputs": [
    {
     "name": "stderr",
     "output_type": "stream",
     "text": [
      "c:\\users\\astro\\appdata\\local\\programs\\python\\python38\\lib\\site-packages\\numpy\\_distributor_init.py:30: UserWarning: loaded more than 1 DLL from .libs:\n",
      "c:\\users\\astro\\appdata\\local\\programs\\python\\python38\\lib\\site-packages\\numpy\\.libs\\libopenblas.el2c6ple4zyw3eceviv3oxxgrn2nrfm2.gfortran-win_amd64.dll\n",
      "c:\\users\\astro\\appdata\\local\\programs\\python\\python38\\lib\\site-packages\\numpy\\.libs\\libopenblas.PYQHXLVVQ7VESDPUVUADXEVJOBGHJPAY.gfortran-win_amd64.dll\n",
      "  warnings.warn(\"loaded more than 1 DLL from .libs:\"\n"
     ]
    }
   ],
   "source": [
    "import sys\n",
    "sys.path.append(\"../\")\n",
    "import astrojigs\n",
    "from astrojigs import *\n",
    "import matplotlib.pyplot as plt\n",
    "import numpy as np"
   ]
  },
  {
   "cell_type": "markdown",
   "id": "6433dd34",
   "metadata": {},
   "source": [
    "# Example 1: Plotting Center of Mass of points\n",
    "\n",
    "In this example we will plot the center of mass of points which are added in the quadtree. We shall use a simplistic example of 5 `Point` (from `astrojigs.py`) objects being inserted into the quadtree and then we plot their center of mass. "
   ]
  },
  {
   "cell_type": "markdown",
   "id": "e88675ec",
   "metadata": {},
   "source": [
    "boundary = `Rectangle class(center_x,center_y, total_width, total_height)`"
   ]
  },
  {
   "cell_type": "code",
   "execution_count": 2,
   "id": "aee125b6",
   "metadata": {},
   "outputs": [],
   "source": [
    "b1 = astrojigs.Rectangle(30,30,60,60)"
   ]
  },
  {
   "cell_type": "code",
   "execution_count": 3,
   "id": "9d65de97",
   "metadata": {},
   "outputs": [],
   "source": [
    "quadtree = astrojigs.Quadtree(boundary=b1,G=1,theta_=1)"
   ]
  },
  {
   "cell_type": "code",
   "execution_count": 4,
   "id": "fe71641a",
   "metadata": {},
   "outputs": [],
   "source": [
    "p1 = Point(x=10,y=50, mass=10)\n",
    "p2 = Point(x=49,y=49, mass=11)\n",
    "p3 = Point(x=1,y=1, mass=12)\n",
    "p4 = Point(x=3,y=3, mass=13)\n",
    "p5 = Point(x=50,y=10, mass=14)\n",
    "\n",
    "points = [p1,p2,p3,p4,p5]"
   ]
  },
  {
   "cell_type": "code",
   "execution_count": 5,
   "id": "ea72bd5a",
   "metadata": {},
   "outputs": [],
   "source": [
    "# Inserting the points:\n",
    "for p in points:\n",
    "    quadtree.insert(p)"
   ]
  },
  {
   "cell_type": "markdown",
   "id": "c887d565",
   "metadata": {},
   "source": [
    "We can see the quadtree after the points have been inserted."
   ]
  },
  {
   "cell_type": "code",
   "execution_count": 6,
   "id": "c277be1f",
   "metadata": {},
   "outputs": [
    {
     "data": {
      "image/png": "[encoded data removed]",
      "text/plain": [
       "<Figure size 432x288 with 1 Axes>"
      ]
     },
     "metadata": {
      "needs_background": "light"
     },
     "output_type": "display_data"
    }
   ],
   "source": [
    "quadtree.show(show_entire=True)"
   ]
  },
  {
   "cell_type": "markdown",
   "id": "ac5d6732",
   "metadata": {},
   "source": [
    "This however is confusing to look at. By plotting the points we can see what the tree is actually doing."
   ]
  },
  {
   "cell_type": "code",
   "execution_count": 7,
   "id": "cc846314",
   "metadata": {},
   "outputs": [
    {
     "data": {
      "image/png": "[encoded data removed]",
      "text/plain": [
       "<Figure size 432x288 with 1 Axes>"
      ]
     },
     "metadata": {
      "needs_background": "light"
     },
     "output_type": "display_data"
    }
   ],
   "source": [
    "plt.scatter([p.x for p in points],[p.y for p in points])\n",
    "quadtree.show(show_entire=True)"
   ]
  },
  {
   "cell_type": "markdown",
   "id": "d5c8932d",
   "metadata": {},
   "source": [
    "We can also see the quadtree by removing the rectangles which don't contain points."
   ]
  },
  {
   "cell_type": "code",
   "execution_count": 8,
   "id": "6cb05a4c",
   "metadata": {},
   "outputs": [
    {
     "data": {
      "image/png": "[encoded data removed]",
      "text/plain": [
       "<Figure size 432x288 with 1 Axes>"
      ]
     },
     "metadata": {
      "needs_background": "light"
     },
     "output_type": "display_data"
    }
   ],
   "source": [
    "plt.scatter([p.x for p in points],[p.y for p in points])\n",
    "quadtree.show(show_entire=False)"
   ]
  },
  {
   "cell_type": "markdown",
   "id": "3d9862a5",
   "metadata": {},
   "source": [
    "**Plotting Center of Mass**\n",
    "\n",
    "Center of mass of the entire quadtree:"
   ]
  },
  {
   "cell_type": "code",
   "execution_count": 9,
   "id": "18e8add0",
   "metadata": {},
   "outputs": [
    {
     "data": {
      "image/png": "[encoded data removed]",
      "text/plain": [
       "<Figure size 432x288 with 1 Axes>"
      ]
     },
     "metadata": {
      "needs_background": "light"
     },
     "output_type": "display_data"
    }
   ],
   "source": [
    "plt.scatter([p.x for p in points],[p.y for p in points])\n",
    "x_com,y_com = quadtree.center_of_mass()\n",
    "plt.scatter(x_com,y_com,s=500,c='orange')\n",
    "quadtree.show(show_entire=True)"
   ]
  },
  {
   "cell_type": "markdown",
   "id": "611c60b2",
   "metadata": {},
   "source": [
    "# Example 2: Accessing Sub-Qudrants"
   ]
  },
  {
   "cell_type": "markdown",
   "id": "89aa7244",
   "metadata": {},
   "source": [
    "We can also access each of the quadrants from the quadtree.\n",
    "\n",
    "Each quadrant is divided into 4 equal parts if the number of points exceed capacity. Here's how to access quadrants. \n",
    "\n",
    "`quadtree.quads = [northwest, northeast, southwest, southeast]`"
   ]
  },
  {
   "cell_type": "markdown",
   "id": "c4346edd",
   "metadata": {},
   "source": [
    "* Accessing the point in the lower right part of the plot i.e. the southeast quadrant of the main quadtree.\n",
    "\n",
    "Use the following:"
   ]
  },
  {
   "cell_type": "code",
   "execution_count": 10,
   "id": "d743cabe",
   "metadata": {},
   "outputs": [
    {
     "data": {
      "text/plain": [
       "(50, 10)"
      ]
     },
     "execution_count": 10,
     "metadata": {},
     "output_type": "execute_result"
    }
   ],
   "source": [
    "quadtree.quads[3].points[0].x,quadtree.quads[3].points[0].y"
   ]
  },
  {
   "cell_type": "markdown",
   "id": "47f320f9",
   "metadata": {},
   "source": [
    "These are the coordinates of that point."
   ]
  },
  {
   "cell_type": "markdown",
   "id": "b1c34ff9",
   "metadata": {},
   "source": [
    "We can also find the mass of the point:"
   ]
  },
  {
   "cell_type": "code",
   "execution_count": 11,
   "id": "041f962f",
   "metadata": {},
   "outputs": [
    {
     "data": {
      "text/plain": [
       "14"
      ]
     },
     "execution_count": 11,
     "metadata": {},
     "output_type": "execute_result"
    }
   ],
   "source": [
    "quadtree.quads[3].points[0].mass"
   ]
  },
  {
   "cell_type": "markdown",
   "id": "ec5f3b27",
   "metadata": {},
   "source": [
    "We can access the center of mass each quadrant as well. We use the following lines of code to do it."
   ]
  },
  {
   "cell_type": "code",
   "execution_count": 12,
   "id": "93af786b",
   "metadata": {},
   "outputs": [
    {
     "data": {
      "text/plain": [
       "(50.0, 10.0)"
      ]
     },
     "execution_count": 12,
     "metadata": {},
     "output_type": "execute_result"
    }
   ],
   "source": [
    "quadtree.quads[3].center_of_mass()"
   ]
  },
  {
   "cell_type": "markdown",
   "id": "ba33261a",
   "metadata": {},
   "source": [
    "Notice that the coordinates of center of mass of southeast quadrant is the same as the point's coordinates since only one point exists. Additionally, we can find the mass of COM."
   ]
  },
  {
   "cell_type": "code",
   "execution_count": 13,
   "id": "3fd5cfa1",
   "metadata": {},
   "outputs": [
    {
     "data": {
      "text/plain": [
       "14.0"
      ]
     },
     "execution_count": 13,
     "metadata": {},
     "output_type": "execute_result"
    }
   ],
   "source": [
    "quadtree.quads[3].mass"
   ]
  },
  {
   "cell_type": "markdown",
   "id": "00fbebd7",
   "metadata": {},
   "source": [
    "This gives you the mass of the COM (same as that of point since only one point exists)\n",
    "\n",
    "\n",
    "Let's check COM for southwest quadrant where two points exist."
   ]
  },
  {
   "cell_type": "code",
   "execution_count": 14,
   "id": "9a24e109",
   "metadata": {},
   "outputs": [
    {
     "data": {
      "text/plain": [
       "(2.04, 2.04)"
      ]
     },
     "execution_count": 14,
     "metadata": {},
     "output_type": "execute_result"
    }
   ],
   "source": [
    "quadtree.quads[2].center_of_mass()"
   ]
  },
  {
   "cell_type": "markdown",
   "id": "334e8965",
   "metadata": {},
   "source": [
    "Mass of this quadrant:"
   ]
  },
  {
   "cell_type": "code",
   "execution_count": 15,
   "id": "09ddb587",
   "metadata": {},
   "outputs": [
    {
     "data": {
      "text/plain": [
       "25"
      ]
     },
     "execution_count": 15,
     "metadata": {},
     "output_type": "execute_result"
    }
   ],
   "source": [
    "quadtree.quads[2].mass"
   ]
  },
  {
   "cell_type": "markdown",
   "id": "1008c0b6",
   "metadata": {},
   "source": [
    "We can plot sub-quadrants as well."
   ]
  },
  {
   "cell_type": "code",
   "execution_count": 16,
   "id": "5982019e",
   "metadata": {},
   "outputs": [
    {
     "data": {
      "image/png": "[encoded data removed]",
      "text/plain": [
       "<Figure size 432x288 with 1 Axes>"
      ]
     },
     "metadata": {
      "needs_background": "light"
     },
     "output_type": "display_data"
    }
   ],
   "source": [
    "plt.scatter([p3.x,p4.x],[p3.y,p4.y])\n",
    "quadtree.quads[2].show()"
   ]
  },
  {
   "cell_type": "code",
   "execution_count": 17,
   "id": "ed180b60",
   "metadata": {},
   "outputs": [
    {
     "data": {
      "image/png": "[encoded data removed]",
      "text/plain": [
       "<Figure size 432x288 with 1 Axes>"
      ]
     },
     "metadata": {
      "needs_background": "light"
     },
     "output_type": "display_data"
    }
   ],
   "source": [
    "plt.scatter([p3.x,p4.x],[p3.y,p4.y])\n",
    "quadtree.quads[2].quads[2].show()"
   ]
  },
  {
   "cell_type": "code",
   "execution_count": 18,
   "id": "1a1287c2",
   "metadata": {},
   "outputs": [
    {
     "data": {
      "image/png": "[encoded data removed]",
      "text/plain": [
       "<Figure size 432x288 with 1 Axes>"
      ]
     },
     "metadata": {
      "needs_background": "light"
     },
     "output_type": "display_data"
    }
   ],
   "source": [
    "plt.scatter([p3.x,p4.x],[p3.y,p4.y])\n",
    "quadtree.quads[2].quads[2].quads[2].show()"
   ]
  },
  {
   "cell_type": "code",
   "execution_count": 19,
   "id": "163e0e86",
   "metadata": {},
   "outputs": [
    {
     "data": {
      "text/plain": [
       "<matplotlib.collections.PathCollection at 0x24022356e20>"
      ]
     },
     "execution_count": 19,
     "metadata": {},
     "output_type": "execute_result"
    },
    {
     "data": {
      "image/png": "[encoded data removed]",
      "text/plain": [
       "<Figure size 432x288 with 1 Axes>"
      ]
     },
     "metadata": {
      "needs_background": "light"
     },
     "output_type": "display_data"
    }
   ],
   "source": [
    "plt.scatter([p3.x,p4.x],[p3.y,p4.y])\n",
    "quadtree.quads[2].quads[2].quads[2].quads[2].show()\n",
    "\n",
    "# plotting the center of mass:\n",
    "com_x,com_y = quadtree.quads[2].center_of_mass()\n",
    "plt.scatter(com_x,com_y)"
   ]
  },
  {
   "cell_type": "markdown",
   "id": "3d6b6a01",
   "metadata": {},
   "source": [
    "⚠️**Note** the above method only works because the parent quadrant has two points:\n",
    "\n",
    "If more points were present, we would have used the following:"
   ]
  },
  {
   "cell_type": "code",
   "execution_count": 20,
   "id": "c1be7248",
   "metadata": {},
   "outputs": [
    {
     "data": {
      "text/plain": [
       "<matplotlib.collections.PathCollection at 0x24020151850>"
      ]
     },
     "execution_count": 20,
     "metadata": {},
     "output_type": "execute_result"
    },
    {
     "data": {
      "image/png": "[encoded data removed]",
      "text/plain": [
       "<Figure size 432x288 with 1 Axes>"
      ]
     },
     "metadata": {
      "needs_background": "light"
     },
     "output_type": "display_data"
    }
   ],
   "source": [
    "plt.scatter([p3.x,p4.x],[p3.y,p4.y])\n",
    "quadtree.quads[2].quads[2].quads[2].quads[2].show()\n",
    "com_x,com_y = quadtree.quads[2].quads[2].quads[2].quads[2].center_of_mass()\n",
    "plt.scatter(com_x,com_y)"
   ]
  },
  {
   "cell_type": "markdown",
   "id": "28dc00b7",
   "metadata": {},
   "source": [
    "It's one and the same thing"
   ]
  },
  {
   "cell_type": "markdown",
   "id": "ffd5d23f",
   "metadata": {},
   "source": [
    "# Example 3: increase the capacity to hold points\n",
    "\n",
    "The default capacity is set to 1. However, you can choose your own capacity.\n",
    "\n",
    "For example: Setting the capacity to two will tell the quadtree to sub-divide only when there are more than two points in the quadrant."
   ]
  },
  {
   "cell_type": "code",
   "execution_count": 21,
   "id": "86daa47a",
   "metadata": {},
   "outputs": [
    {
     "data": {
      "image/png": "[encoded data removed]",
      "text/plain": [
       "<Figure size 432x288 with 1 Axes>"
      ]
     },
     "metadata": {
      "needs_background": "light"
     },
     "output_type": "display_data"
    }
   ],
   "source": [
    "# making another quadtree\n",
    "qt2 = astrojigs.Quadtree(boundary=b1, G=1, theta_=1, n=3)\n",
    "\n",
    "# inserting points\n",
    "for p in points:\n",
    "    qt2.insert(p)\n",
    "    \n",
    "# plotting the quadtree with points\n",
    "plt.scatter([p.x for p in points], [p.y for p in points])\n",
    "qt2.show()"
   ]
  },
  {
   "cell_type": "markdown",
   "id": "f6336600",
   "metadata": {},
   "source": [
    "Accessing the center of mass and accessing sub-quadrants will be the same."
   ]
  },
  {
   "cell_type": "code",
   "execution_count": 32,
   "id": "3822d802",
   "metadata": {},
   "outputs": [
    {
     "data": {
      "text/plain": [
       "[<astrojigs.Point at 0x24020127e80>, <astrojigs.Point at 0x24020127e20>]"
      ]
     },
     "execution_count": 32,
     "metadata": {},
     "output_type": "execute_result"
    }
   ],
   "source": [
    "qt2.quads[2].points"
   ]
  },
  {
   "cell_type": "markdown",
   "id": "592826b3",
   "metadata": {},
   "source": [
    "Lets do this for 100 points:"
   ]
  },
  {
   "cell_type": "code",
   "execution_count": 57,
   "id": "43c07c40",
   "metadata": {},
   "outputs": [],
   "source": [
    "qt_100 = astrojigs.Quadtree(boundary=b1,G=1,theta_=1,n=3)\n",
    "\n",
    "points = [astrojigs.Point(x=np.random.uniform(0,60),\n",
    "                         y = np.random.uniform(0,60),\n",
    "                         mass=np.random.uniform(1,17)) for i in range(100)]\n",
    "\n",
    "# Inserting points\n",
    "for p in points:\n",
    "    qt_100.insert(p)"
   ]
  },
  {
   "cell_type": "code",
   "execution_count": 63,
   "id": "ef6e37d2",
   "metadata": {},
   "outputs": [
    {
     "data": {
      "image/png": "[encoded data removed]",
      "text/plain": [
       "<Figure size 504x504 with 1 Axes>"
      ]
     },
     "metadata": {
      "needs_background": "light"
     },
     "output_type": "display_data"
    }
   ],
   "source": [
    "plt.figure(figsize=(7,7))\n",
    "plt.scatter([p.x for p in points], [p.y for p in points],s=10)\n",
    "qt_100.show(show_entire=False)"
   ]
  },
  {
   "cell_type": "markdown",
   "id": "438d408e",
   "metadata": {},
   "source": [
    "Now each quadrant has either 3 or less point objects."
   ]
  },
  {
   "cell_type": "markdown",
   "id": "4be6d201",
   "metadata": {},
   "source": [
    "# Example 4: Show Quadtree w.r.t a point.\n",
    "I'm going to plot multiple points for this example."
   ]
  },
  {
   "cell_type": "code",
   "execution_count": null,
   "id": "4500e631",
   "metadata": {},
   "outputs": [],
   "source": [
    "qt_150 = astrojigs.Quadtree(boundary=b1)"
   ]
  }
 ],
 "metadata": {
  "kernelspec": {
   "display_name": "Python 3",
   "language": "python",
   "name": "python3"
  },
  "language_info": {
   "codemirror_mode": {
    "name": "ipython",
    "version": 3
   },
   "file_extension": ".py",
   "mimetype": "text/x-python",
   "name": "python",
   "nbconvert_exporter": "python",
   "pygments_lexer": "ipython3",
   "version": "3.8.0"
  }
 },
 "nbformat": 4,
 "nbformat_minor": 5
}
